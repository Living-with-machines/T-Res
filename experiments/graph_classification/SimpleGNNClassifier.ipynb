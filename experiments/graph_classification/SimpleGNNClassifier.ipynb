{
  "nbformat": 4,
  "nbformat_minor": 0,
  "metadata": {
    "colab": {
      "name": "SimpleGNNClassifier.ipynb",
      "provenance": [],
      "collapsed_sections": []
    },
    "kernelspec": {
      "name": "python3",
      "display_name": "Python 3"
    },
    "language_info": {
      "name": "python"
    },
    "accelerator": "GPU"
  },
  "cells": [
    {
      "cell_type": "code",
      "execution_count": 1,
      "metadata": {
        "colab": {
          "base_uri": "https://localhost:8080/"
        },
        "id": "KHb70AIaP-XT",
        "outputId": "7aa13dbc-2643-4037-f465-5f6998fe69a8"
      },
      "outputs": [
        {
          "output_type": "stream",
          "name": "stdout",
          "text": [
            "Requirement already satisfied: transformers in /usr/local/lib/python3.7/dist-packages (4.18.0)\n",
            "Requirement already satisfied: packaging>=20.0 in /usr/local/lib/python3.7/dist-packages (from transformers) (21.3)\n",
            "Requirement already satisfied: regex!=2019.12.17 in /usr/local/lib/python3.7/dist-packages (from transformers) (2019.12.20)\n",
            "Requirement already satisfied: huggingface-hub<1.0,>=0.1.0 in /usr/local/lib/python3.7/dist-packages (from transformers) (0.5.1)\n",
            "Requirement already satisfied: sacremoses in /usr/local/lib/python3.7/dist-packages (from transformers) (0.0.49)\n",
            "Requirement already satisfied: requests in /usr/local/lib/python3.7/dist-packages (from transformers) (2.23.0)\n",
            "Requirement already satisfied: filelock in /usr/local/lib/python3.7/dist-packages (from transformers) (3.6.0)\n",
            "Requirement already satisfied: importlib-metadata in /usr/local/lib/python3.7/dist-packages (from transformers) (4.11.3)\n",
            "Requirement already satisfied: pyyaml>=5.1 in /usr/local/lib/python3.7/dist-packages (from transformers) (6.0)\n",
            "Requirement already satisfied: tqdm>=4.27 in /usr/local/lib/python3.7/dist-packages (from transformers) (4.63.0)\n",
            "Requirement already satisfied: numpy>=1.17 in /usr/local/lib/python3.7/dist-packages (from transformers) (1.21.5)\n",
            "Requirement already satisfied: tokenizers!=0.11.3,<0.13,>=0.11.1 in /usr/local/lib/python3.7/dist-packages (from transformers) (0.11.6)\n",
            "Requirement already satisfied: typing-extensions>=3.7.4.3 in /usr/local/lib/python3.7/dist-packages (from huggingface-hub<1.0,>=0.1.0->transformers) (3.10.0.2)\n",
            "Requirement already satisfied: pyparsing!=3.0.5,>=2.0.2 in /usr/local/lib/python3.7/dist-packages (from packaging>=20.0->transformers) (3.0.7)\n",
            "Requirement already satisfied: zipp>=0.5 in /usr/local/lib/python3.7/dist-packages (from importlib-metadata->transformers) (3.7.0)\n",
            "Requirement already satisfied: chardet<4,>=3.0.2 in /usr/local/lib/python3.7/dist-packages (from requests->transformers) (3.0.4)\n",
            "Requirement already satisfied: urllib3!=1.25.0,!=1.25.1,<1.26,>=1.21.1 in /usr/local/lib/python3.7/dist-packages (from requests->transformers) (1.24.3)\n",
            "Requirement already satisfied: certifi>=2017.4.17 in /usr/local/lib/python3.7/dist-packages (from requests->transformers) (2021.10.8)\n",
            "Requirement already satisfied: idna<3,>=2.5 in /usr/local/lib/python3.7/dist-packages (from requests->transformers) (2.10)\n",
            "Requirement already satisfied: joblib in /usr/local/lib/python3.7/dist-packages (from sacremoses->transformers) (1.1.0)\n",
            "Requirement already satisfied: click in /usr/local/lib/python3.7/dist-packages (from sacremoses->transformers) (7.1.2)\n",
            "Requirement already satisfied: six in /usr/local/lib/python3.7/dist-packages (from sacremoses->transformers) (1.15.0)\n"
          ]
        }
      ],
      "source": [
        "!pip install transformers"
      ]
    },
    {
      "cell_type": "code",
      "source": [
        "!pip install -q torch-cluster -f https://data.pyg.org/whl/torch-1.10.0+cu113.html\n",
        "!pip install -q torch-scatter -f https://data.pyg.org/whl/torch-1.10.0+cu113.html\n",
        "!pip install -q torch-sparse -f https://data.pyg.org/whl/torch-1.10.0+cu113.html\n",
        "!pip install -q git+https://github.com/pyg-team/pytorch_geometric.git\n"
      ],
      "metadata": {
        "id": "cIMl2Ajt6qOt"
      },
      "execution_count": 2,
      "outputs": []
    },
    {
      "cell_type": "code",
      "source": [
        "from transformers import pipeline\n",
        "from transformers import AutoTokenizer,AutoModel\n",
        "import pandas as pd\n",
        "import numpy as np"
      ],
      "metadata": {
        "id": "OrTU0sK5Qp6w"
      },
      "execution_count": 3,
      "outputs": []
    },
    {
      "cell_type": "markdown",
      "source": [
        "# Load sentences with candidates"
      ],
      "metadata": {
        "id": "EL-AKW8GmGOn"
      }
    },
    {
      "cell_type": "code",
      "source": [
        "df = pd.read_csv('/content/linking_train_with_cands.tsv',sep='\\t')\n",
        "df.head(3)"
      ],
      "metadata": {
        "colab": {
          "base_uri": "https://localhost:8080/",
          "height": 363
        },
        "id": "yCc5wqIzZ7cp",
        "outputId": "4219b4f4-1ac4-42a4-95d8-7aff1d35fbd2"
      },
      "execution_count": 4,
      "outputs": [
        {
          "output_type": "execute_result",
          "data": {
            "text/plain": [
              "   article_id  sentence_pos  \\\n",
              "0    10813493             1   \n",
              "1    10813493             2   \n",
              "2    10813493             4   \n",
              "\n",
              "                                            sentence  mention_pos   mention  \\\n",
              "0                                           INDIA.              0     INDIA   \n",
              "1                                  Calcutta, Aug. 3.            1  Calcutta   \n",
              "2  The Lieutenant-Governor left Calcutta on the 2...            2  Calcutta   \n",
              "\n",
              "  wkdt_qid  mention_start  mention_end  \\\n",
              "0     Q668              0            5   \n",
              "1    Q1348              0            8   \n",
              "2    Q1348             29           37   \n",
              "\n",
              "                                          wkdt_cands  \n",
              "0                                {'INDIA': ['Q668']}  \n",
              "1  {'Calcutta': ['Q1348', 'Q5100141', 'Q2035004',...  \n",
              "2  {'Calcutta': ['Q1348', 'Q5100141', 'Q2035004',...  "
            ],
            "text/html": [
              "\n",
              "  <div id=\"df-6c5ee1ab-57d0-4c47-85df-27e1bbe47a6c\">\n",
              "    <div class=\"colab-df-container\">\n",
              "      <div>\n",
              "<style scoped>\n",
              "    .dataframe tbody tr th:only-of-type {\n",
              "        vertical-align: middle;\n",
              "    }\n",
              "\n",
              "    .dataframe tbody tr th {\n",
              "        vertical-align: top;\n",
              "    }\n",
              "\n",
              "    .dataframe thead th {\n",
              "        text-align: right;\n",
              "    }\n",
              "</style>\n",
              "<table border=\"1\" class=\"dataframe\">\n",
              "  <thead>\n",
              "    <tr style=\"text-align: right;\">\n",
              "      <th></th>\n",
              "      <th>article_id</th>\n",
              "      <th>sentence_pos</th>\n",
              "      <th>sentence</th>\n",
              "      <th>mention_pos</th>\n",
              "      <th>mention</th>\n",
              "      <th>wkdt_qid</th>\n",
              "      <th>mention_start</th>\n",
              "      <th>mention_end</th>\n",
              "      <th>wkdt_cands</th>\n",
              "    </tr>\n",
              "  </thead>\n",
              "  <tbody>\n",
              "    <tr>\n",
              "      <th>0</th>\n",
              "      <td>10813493</td>\n",
              "      <td>1</td>\n",
              "      <td>INDIA.</td>\n",
              "      <td>0</td>\n",
              "      <td>INDIA</td>\n",
              "      <td>Q668</td>\n",
              "      <td>0</td>\n",
              "      <td>5</td>\n",
              "      <td>{'INDIA': ['Q668']}</td>\n",
              "    </tr>\n",
              "    <tr>\n",
              "      <th>1</th>\n",
              "      <td>10813493</td>\n",
              "      <td>2</td>\n",
              "      <td>Calcutta, Aug. 3.</td>\n",
              "      <td>1</td>\n",
              "      <td>Calcutta</td>\n",
              "      <td>Q1348</td>\n",
              "      <td>0</td>\n",
              "      <td>8</td>\n",
              "      <td>{'Calcutta': ['Q1348', 'Q5100141', 'Q2035004',...</td>\n",
              "    </tr>\n",
              "    <tr>\n",
              "      <th>2</th>\n",
              "      <td>10813493</td>\n",
              "      <td>4</td>\n",
              "      <td>The Lieutenant-Governor left Calcutta on the 2...</td>\n",
              "      <td>2</td>\n",
              "      <td>Calcutta</td>\n",
              "      <td>Q1348</td>\n",
              "      <td>29</td>\n",
              "      <td>37</td>\n",
              "      <td>{'Calcutta': ['Q1348', 'Q5100141', 'Q2035004',...</td>\n",
              "    </tr>\n",
              "  </tbody>\n",
              "</table>\n",
              "</div>\n",
              "      <button class=\"colab-df-convert\" onclick=\"convertToInteractive('df-6c5ee1ab-57d0-4c47-85df-27e1bbe47a6c')\"\n",
              "              title=\"Convert this dataframe to an interactive table.\"\n",
              "              style=\"display:none;\">\n",
              "        \n",
              "  <svg xmlns=\"http://www.w3.org/2000/svg\" height=\"24px\"viewBox=\"0 0 24 24\"\n",
              "       width=\"24px\">\n",
              "    <path d=\"M0 0h24v24H0V0z\" fill=\"none\"/>\n",
              "    <path d=\"M18.56 5.44l.94 2.06.94-2.06 2.06-.94-2.06-.94-.94-2.06-.94 2.06-2.06.94zm-11 1L8.5 8.5l.94-2.06 2.06-.94-2.06-.94L8.5 2.5l-.94 2.06-2.06.94zm10 10l.94 2.06.94-2.06 2.06-.94-2.06-.94-.94-2.06-.94 2.06-2.06.94z\"/><path d=\"M17.41 7.96l-1.37-1.37c-.4-.4-.92-.59-1.43-.59-.52 0-1.04.2-1.43.59L10.3 9.45l-7.72 7.72c-.78.78-.78 2.05 0 2.83L4 21.41c.39.39.9.59 1.41.59.51 0 1.02-.2 1.41-.59l7.78-7.78 2.81-2.81c.8-.78.8-2.07 0-2.86zM5.41 20L4 18.59l7.72-7.72 1.47 1.35L5.41 20z\"/>\n",
              "  </svg>\n",
              "      </button>\n",
              "      \n",
              "  <style>\n",
              "    .colab-df-container {\n",
              "      display:flex;\n",
              "      flex-wrap:wrap;\n",
              "      gap: 12px;\n",
              "    }\n",
              "\n",
              "    .colab-df-convert {\n",
              "      background-color: #E8F0FE;\n",
              "      border: none;\n",
              "      border-radius: 50%;\n",
              "      cursor: pointer;\n",
              "      display: none;\n",
              "      fill: #1967D2;\n",
              "      height: 32px;\n",
              "      padding: 0 0 0 0;\n",
              "      width: 32px;\n",
              "    }\n",
              "\n",
              "    .colab-df-convert:hover {\n",
              "      background-color: #E2EBFA;\n",
              "      box-shadow: 0px 1px 2px rgba(60, 64, 67, 0.3), 0px 1px 3px 1px rgba(60, 64, 67, 0.15);\n",
              "      fill: #174EA6;\n",
              "    }\n",
              "\n",
              "    [theme=dark] .colab-df-convert {\n",
              "      background-color: #3B4455;\n",
              "      fill: #D2E3FC;\n",
              "    }\n",
              "\n",
              "    [theme=dark] .colab-df-convert:hover {\n",
              "      background-color: #434B5C;\n",
              "      box-shadow: 0px 1px 3px 1px rgba(0, 0, 0, 0.15);\n",
              "      filter: drop-shadow(0px 1px 2px rgba(0, 0, 0, 0.3));\n",
              "      fill: #FFFFFF;\n",
              "    }\n",
              "  </style>\n",
              "\n",
              "      <script>\n",
              "        const buttonEl =\n",
              "          document.querySelector('#df-6c5ee1ab-57d0-4c47-85df-27e1bbe47a6c button.colab-df-convert');\n",
              "        buttonEl.style.display =\n",
              "          google.colab.kernel.accessAllowed ? 'block' : 'none';\n",
              "\n",
              "        async function convertToInteractive(key) {\n",
              "          const element = document.querySelector('#df-6c5ee1ab-57d0-4c47-85df-27e1bbe47a6c');\n",
              "          const dataTable =\n",
              "            await google.colab.kernel.invokeFunction('convertToInteractive',\n",
              "                                                     [key], {});\n",
              "          if (!dataTable) return;\n",
              "\n",
              "          const docLinkHtml = 'Like what you see? Visit the ' +\n",
              "            '<a target=\"_blank\" href=https://colab.research.google.com/notebooks/data_table.ipynb>data table notebook</a>'\n",
              "            + ' to learn more about interactive tables.';\n",
              "          element.innerHTML = '';\n",
              "          dataTable['output_type'] = 'display_data';\n",
              "          await google.colab.output.renderOutput(dataTable, element);\n",
              "          const docLink = document.createElement('div');\n",
              "          docLink.innerHTML = docLinkHtml;\n",
              "          element.appendChild(docLink);\n",
              "        }\n",
              "      </script>\n",
              "    </div>\n",
              "  </div>\n",
              "  "
            ]
          },
          "metadata": {},
          "execution_count": 4
        }
      ]
    },
    {
      "cell_type": "markdown",
      "source": [
        "# Extract vectors for target expression"
      ],
      "metadata": {
        "id": "meSrIJFrmLjO"
      }
    },
    {
      "cell_type": "code",
      "source": [
        "model_name = 'distilbert-base-uncased'"
      ],
      "metadata": {
        "id": "tQ45V24UTdYq"
      },
      "execution_count": 5,
      "outputs": []
    },
    {
      "cell_type": "code",
      "source": [
        "tokenizer = AutoTokenizer.from_pretrained(model_name)\n",
        "model = AutoModel.from_pretrained(model_name)"
      ],
      "metadata": {
        "colab": {
          "base_uri": "https://localhost:8080/"
        },
        "id": "JlLoKN7ETYg-",
        "outputId": "44182e33-8145-49cd-9e7e-fd8795fd20bb"
      },
      "execution_count": 6,
      "outputs": [
        {
          "output_type": "stream",
          "name": "stderr",
          "text": [
            "Some weights of the model checkpoint at distilbert-base-uncased were not used when initializing DistilBertModel: ['vocab_transform.bias', 'vocab_layer_norm.bias', 'vocab_transform.weight', 'vocab_projector.weight', 'vocab_projector.bias', 'vocab_layer_norm.weight']\n",
            "- This IS expected if you are initializing DistilBertModel from the checkpoint of a model trained on another task or with another architecture (e.g. initializing a BertForSequenceClassification model from a BertForPreTraining model).\n",
            "- This IS NOT expected if you are initializing DistilBertModel from the checkpoint of a model that you expect to be exactly identical (initializing a BertForSequenceClassification model from a BertForSequenceClassification model).\n"
          ]
        }
      ]
    },
    {
      "cell_type": "code",
      "source": [
        "fe = pipeline('feature-extraction',\n",
        "              model=model,\n",
        "              tokenizer=tokenizer)"
      ],
      "metadata": {
        "id": "ULVR1sgVQqff"
      },
      "execution_count": 7,
      "outputs": []
    },
    {
      "cell_type": "code",
      "source": [
        "def get_vector(row,pipeline,tokenizer,agg=np.mean):\n",
        "    tokenized = tokenizer(row.sentence)\n",
        "\n",
        "    start_token = tokenized.char_to_token(row.mention_start)\n",
        "\n",
        "    end_token = tokenized.char_to_token(row.mention_end-1)\n",
        "    if not end_token:\n",
        "      print(row.mention) # issue with these names, check later\n",
        "      end_token = start_token\n",
        "    tokens_positions = list(range(start_token,end_token+1))\n",
        "    vectors = np.array(pipeline(row.sentence))\n",
        "    vector = agg(vectors[0,tokens_positions,:],axis=0)\n",
        "    return vector\n",
        "\n",
        "df['vector'] = df.apply(get_vector,pipeline=fe,tokenizer=tokenizer,axis=1)"
      ],
      "metadata": {
        "colab": {
          "base_uri": "https://localhost:8080/"
        },
        "id": "mb65-IQLaZzc",
        "outputId": "fdf89f66-abdf-42a9-d9bc-d35b573ff27d"
      },
      "execution_count": null,
      "outputs": [
        {
          "output_type": "stream",
          "name": "stdout",
          "text": [
            "ASHTON-UNDER-LYNE\n",
            "DENTON\n",
            "NEWTON HEATH\n"
          ]
        }
      ]
    },
    {
      "cell_type": "markdown",
      "source": [
        "# Load gazetteer"
      ],
      "metadata": {
        "id": "HWmvzn3imSum"
      }
    },
    {
      "cell_type": "code",
      "source": [
        "!unzip wikidata_gazetteer.csv.zip"
      ],
      "metadata": {
        "id": "VbUkd4zdlFIu"
      },
      "execution_count": null,
      "outputs": []
    },
    {
      "cell_type": "code",
      "source": [
        "gazetteer = pd.read_csv('wikidata_gazetteer.csv')\n"
      ],
      "metadata": {
        "id": "gphXpC9sk65m"
      },
      "execution_count": null,
      "outputs": []
    },
    {
      "cell_type": "code",
      "source": [
        "from ast import literal_eval\n",
        "def eval_with_exception(string):\n",
        "    try:\n",
        "        return literal_eval(string)\n",
        "    except ValueError:\n",
        "        return None\n",
        "gazetteer['instance_of'] = gazetteer['instance_of'].apply(eval_with_exception)"
      ],
      "metadata": {
        "id": "xhmAv25VlXcj"
      },
      "execution_count": 12,
      "outputs": []
    },
    {
      "cell_type": "code",
      "source": [
        "gazetteer.columns"
      ],
      "metadata": {
        "colab": {
          "base_uri": "https://localhost:8080/"
        },
        "id": "onBs-m_Lp0YL",
        "outputId": "315d325c-9ba9-4d17-8228-4c2efcf722d9"
      },
      "execution_count": 38,
      "outputs": [
        {
          "output_type": "execute_result",
          "data": {
            "text/plain": [
              "Index(['wikidata_id', 'english_label', 'instance_of', 'description_set',\n",
              "       'alias_dict', 'nativelabel', 'population_dict', 'area', 'hcounties',\n",
              "       'date_opening', 'date_closing', 'inception_date', 'dissolved_date',\n",
              "       'follows', 'replaces', 'adm_regions', 'countries', 'continents',\n",
              "       'capital_of', 'borders', 'near_water', 'latitude', 'longitude',\n",
              "       'wikititle', 'geonamesIDs', 'connectswith', 'street_address',\n",
              "       'street_located', 'postal_code'],\n",
              "      dtype='object')"
            ]
          },
          "metadata": {},
          "execution_count": 38
        }
      ]
    },
    {
      "cell_type": "markdown",
      "source": [
        "# Load embeddings of the wikidata classes"
      ],
      "metadata": {
        "id": "sFR1QTQ-mXox"
      }
    },
    {
      "cell_type": "code",
      "source": [
        "wiki_classes = open('wikidata_ids.txt','r').read().split('\\n')\n",
        "wiki_classes[:3]"
      ],
      "metadata": {
        "colab": {
          "base_uri": "https://localhost:8080/"
        },
        "id": "kXGZaCOUlL_L",
        "outputId": "6797cf9d-3986-4d7d-9c3b-23b531652539"
      },
      "execution_count": 15,
      "outputs": [
        {
          "output_type": "execute_result",
          "data": {
            "text/plain": [
              "['Q150093', 'Q79696253', 'Q8038600']"
            ]
          },
          "metadata": {},
          "execution_count": 15
        }
      ]
    },
    {
      "cell_type": "code",
      "source": [
        "embeddings = np.load('embeddings.npy')\n",
        "print(embeddings.shape,len(wiki_classes))"
      ],
      "metadata": {
        "colab": {
          "base_uri": "https://localhost:8080/"
        },
        "id": "QH50eLVSlwle",
        "outputId": "358244a1-1b45-489a-eaf5-dd11941a08f9"
      },
      "execution_count": 17,
      "outputs": [
        {
          "output_type": "stream",
          "name": "stdout",
          "text": [
            "(9915, 128) 9915\n"
          ]
        }
      ]
    },
    {
      "cell_type": "markdown",
      "source": [
        "# Create network data"
      ],
      "metadata": {
        "id": "ZJrY4MpUmgJh"
      }
    },
    {
      "cell_type": "code",
      "source": [
        ""
      ],
      "metadata": {
        "id": "kUDIQUiPl4Lo"
      },
      "execution_count": 44,
      "outputs": []
    },
    {
      "cell_type": "code",
      "source": [
        "df.iloc[2]"
      ],
      "metadata": {
        "colab": {
          "base_uri": "https://localhost:8080/"
        },
        "id": "CU7HDZ1smzQM",
        "outputId": "563800c9-567b-4c13-d81a-bfac7d07f11a"
      },
      "execution_count": 19,
      "outputs": [
        {
          "output_type": "execute_result",
          "data": {
            "text/plain": [
              "article_id                                                10813493\n",
              "sentence_pos                                                     4\n",
              "sentence         The Lieutenant-Governor left Calcutta on the 2...\n",
              "mention_pos                                                      2\n",
              "mention                                                   Calcutta\n",
              "wkdt_qid                                                     Q1348\n",
              "mention_start                                                   29\n",
              "mention_end                                                     37\n",
              "wkdt_cands       {'Calcutta': ['Q1348', 'Q5100141', 'Q2035004',...\n",
              "vector           [0.3800719380378723, -0.5807441473007202, -0.1...\n",
              "Name: 2, dtype: object"
            ]
          },
          "metadata": {},
          "execution_count": 19
        }
      ]
    },
    {
      "cell_type": "code",
      "source": [
        "df['wkdt_cands'] = df['wkdt_cands'].apply(eval_with_exception)"
      ],
      "metadata": {
        "id": "3B601mprn49E"
      },
      "execution_count": 26,
      "outputs": []
    },
    {
      "cell_type": "code",
      "source": [
        "def get_all_wiki_ids(df):\n",
        "  ids = set()\n",
        "  for i,row in df.iterrows():\n",
        "    ids.add(row.wkdt_qid)\n",
        "    for k,v in row.wkdt_cands.items():\n",
        "      ids.update(set(v))\n",
        "  return dict(zip(range(len(ids)),sorted(ids)))\n",
        "\n",
        "idx2wikidata = get_all_wiki_ids(df)\n",
        "wikidata2idx = {j:i for i,j in idx2wikidata.items()}\n"
      ],
      "metadata": {
        "id": "4i1DBUa-m9Bp"
      },
      "execution_count": 34,
      "outputs": []
    },
    {
      "cell_type": "code",
      "source": [
        "from itertools import combinations\n",
        "import networkx as nx\n",
        "from torch_geometric.utils.convert import from_networkx\n",
        "from scipy.spatial.distance import pdist, squareform\n",
        "from math import radians, cos, sin, asin, sqrt\n",
        "from tqdm import tqdm_notebook"
      ],
      "metadata": {
        "id": "0Uf-hEW5_oge"
      },
      "execution_count": 181,
      "outputs": []
    },
    {
      "cell_type": "code",
      "source": [
        "def create_x(row,candidate):\n",
        "  instance_ids = gazetteer[gazetteer.wikidata_id==candidate].instance_of.values[0]\n",
        "  if not instance_ids: # if not instance ids, quicks hack refine later\n",
        "    instance_ids = ['Q000000000000']\n",
        "  embedding_vectors = []\n",
        "  for i in instance_ids:\n",
        "    try:\n",
        "      embedding_vectors.append(embeddings[wiki_classes.index(i)])\n",
        "    except:\n",
        "      continue\n",
        "  if not embedding_vectors:\n",
        "    avg_vector = np.random.uniform(low=-1.0, high=1.0, size=(1,128))[0] # generate random vector in case not instance embedding\n",
        "  \n",
        "  else: avg_vector = np.mean(np.array(embedding_vectors),axis=0)\n",
        "  return np.concatenate([avg_vector, row.vector], axis=None,dtype=np.float64)\n",
        "\n",
        "# taken from https://stackoverflow.com/questions/15736995/how-can-i-quickly-estimate-the-distance-between-two-latitude-longitude-points\n",
        "\n",
        "def get_distance(v1,v2):\n",
        "    \"\"\"\n",
        "    Calculate the great circle distance between two points \n",
        "    on the earth (specified in decimal degrees)\n",
        "    \"\"\"\n",
        "\n",
        "    lon1, lat1 = v1\n",
        "    lon2, lat2 = v2\n",
        "    # convert decimal degrees to radians \n",
        "    lon1, lat1, lon2, lat2 = map(radians, [lon1, lat1, lon2, lat2])\n",
        "    # haversine formula \n",
        "    dlon = lon2 - lon1 \n",
        "    dlat = lat2 - lat1 \n",
        "    a = sin(dlat/2)**2 + cos(lat1) * cos(lat2) * sin(dlon/2)**2\n",
        "    c = 2 * asin(sqrt(a)) \n",
        "    # Radius of earth in kilometers is 6371\n",
        "    km = 6371* c\n",
        "    return km"
      ],
      "metadata": {
        "id": "8kKlio9X9rsZ"
      },
      "execution_count": 209,
      "outputs": []
    },
    {
      "cell_type": "code",
      "source": [
        "def create_network_from_row(row,start_idx=0):\n",
        "  candidates_ids = set()\n",
        "  for k,v in row.wkdt_cands.items():\n",
        "      candidates_ids.update(set(v))\n",
        "  candidates = gazetteer[gazetteer.wikidata_id.isin(candidates_ids)][['wikidata_id','longitude','latitude']]\n",
        "  candidates.reset_index(inplace=True,drop=True)\n",
        "  \n",
        "  # create labels\n",
        "  candidates['y'] = 0\n",
        "  candidates.loc[candidates.wikidata_id==row.wkdt_qid,'y'] = 1\n",
        "\n",
        "  # add vector representation\n",
        "\n",
        "\n",
        "  class_embeddings = []\n",
        "  for i,candidate in candidates.iterrows():\n",
        "    class_embeddings.append(create_x(row,candidate.wikidata_id))\n",
        "  candidates['x'] = class_embeddings\n",
        "\n",
        "  # create nodes from dataframe\n",
        "  nodes = []\n",
        "  for n_id,cand_row in cands.iterrows():\n",
        "    nodes.append((n_id+start_idx,{\"y\": cand_row.y,\n",
        "                        'x': cand_row.x})) \n",
        "    \n",
        "  \n",
        "  # compute edge weights which is 1 / distance between entitities\n",
        "  distances = pdist(candidates[['longitude','latitude']].values, metric=get_distance)\n",
        "  dist_matrix = squareform(distances)\n",
        "  one_over_dist = 1 / dist_matrix\n",
        "\n",
        "  # create edges based on distance between all nodes\n",
        "\n",
        "  combs = combinations(candidates.index,2)\n",
        "\n",
        "  edges = []\n",
        "  for s,e in combs:\n",
        "    distance = one_over_dist[s,e]\n",
        "    edges.append((s+start_idx,e+start_idx,distance))\n",
        "\n",
        "  \n",
        "  return nodes,edges\n"
      ],
      "metadata": {
        "id": "o7_kngEGmhoa"
      },
      "execution_count": 210,
      "outputs": []
    },
    {
      "cell_type": "code",
      "source": [
        "df.shape"
      ],
      "metadata": {
        "colab": {
          "base_uri": "https://localhost:8080/"
        },
        "id": "dF52J8I8Cxqz",
        "outputId": "743e8968-9ad6-454e-cb3a-6f85cda78a17"
      },
      "execution_count": 211,
      "outputs": [
        {
          "output_type": "execute_result",
          "data": {
            "text/plain": [
              "(2772, 10)"
            ]
          },
          "metadata": {},
          "execution_count": 211
        }
      ]
    },
    {
      "cell_type": "code",
      "source": [
        "\n",
        "nodes_all,edges_all = [],[]\n",
        "#for i,row in tqdm_notebook(df[:10].iterrows()):\n",
        "\n",
        "row = df.iloc[2]\n",
        "n,e = create_network_from_row(row, start_idx=len(nodes_all))\n",
        "nodes_all.extend(n)\n",
        "edges_all.extend(e)\n",
        "\n",
        "\n"
      ],
      "metadata": {
        "colab": {
          "base_uri": "https://localhost:8080/"
        },
        "id": "ADI6MeN9Cvgl",
        "outputId": "29c87834-0fc2-45af-93e5-351acbe94ab6"
      },
      "execution_count": 242,
      "outputs": [
        {
          "output_type": "stream",
          "name": "stderr",
          "text": [
            "/usr/local/lib/python3.7/dist-packages/ipykernel_launcher.py:30: RuntimeWarning: divide by zero encountered in true_divide\n"
          ]
        }
      ]
    },
    {
      "cell_type": "code",
      "source": [
        "for ids,n_dict in nodes_all:\n",
        "  #print(n_dict.keys())\n",
        "  if not n_dict['x'].dtype == np.float64:\n",
        "    print(n_dict)\n",
        "  if not isinstance(n_dict['x'],np.ndarray):\n",
        "    print(n_dict)\n",
        "  if not isinstance(n_dict['y'],int):\n",
        "    print(n_dict)"
      ],
      "metadata": {
        "id": "9SapfWLyD5sg"
      },
      "execution_count": 243,
      "outputs": []
    },
    {
      "cell_type": "code",
      "source": [
        "# create the network from nodes and edges\n",
        "G = nx.Graph()\n",
        "G.add_nodes_from(nodes_all)\n",
        "G.add_weighted_edges_from(edges_all)\n",
        "#data =  from_networkx(G)"
      ],
      "metadata": {
        "id": "2rF1ysU5DWUE"
      },
      "execution_count": 244,
      "outputs": []
    },
    {
      "cell_type": "code",
      "source": [
        "G.edges"
      ],
      "metadata": {
        "colab": {
          "base_uri": "https://localhost:8080/"
        },
        "id": "H9EdgBPhG9vC",
        "outputId": "77925525-cfff-4885-a2dc-c76e55805081"
      },
      "execution_count": 245,
      "outputs": [
        {
          "output_type": "execute_result",
          "data": {
            "text/plain": [
              "EdgeView([(0, 1), (0, 2), (0, 3), (0, 4), (0, 5), (0, 6), (0, 7), (0, 8), (0, 9), (0, 10), (0, 11), (0, 12), (0, 13), (0, 14), (0, 15), (0, 16), (0, 17), (0, 18), (0, 19), (0, 20), (1, 2), (1, 3), (1, 4), (1, 5), (1, 6), (1, 7), (1, 8), (1, 9), (1, 10), (1, 11), (1, 12), (1, 13), (1, 14), (1, 15), (1, 16), (1, 17), (1, 18), (1, 19), (1, 20), (2, 3), (2, 4), (2, 5), (2, 6), (2, 7), (2, 8), (2, 9), (2, 10), (2, 11), (2, 12), (2, 13), (2, 14), (2, 15), (2, 16), (2, 17), (2, 18), (2, 19), (2, 20), (3, 4), (3, 5), (3, 6), (3, 7), (3, 8), (3, 9), (3, 10), (3, 11), (3, 12), (3, 13), (3, 14), (3, 15), (3, 16), (3, 17), (3, 18), (3, 19), (3, 20), (4, 5), (4, 6), (4, 7), (4, 8), (4, 9), (4, 10), (4, 11), (4, 12), (4, 13), (4, 14), (4, 15), (4, 16), (4, 17), (4, 18), (4, 19), (4, 20), (5, 6), (5, 7), (5, 8), (5, 9), (5, 10), (5, 11), (5, 12), (5, 13), (5, 14), (5, 15), (5, 16), (5, 17), (5, 18), (5, 19), (5, 20), (6, 7), (6, 8), (6, 9), (6, 10), (6, 11), (6, 12), (6, 13), (6, 14), (6, 15), (6, 16), (6, 17), (6, 18), (6, 19), (6, 20), (7, 8), (7, 9), (7, 10), (7, 11), (7, 12), (7, 13), (7, 14), (7, 15), (7, 16), (7, 17), (7, 18), (7, 19), (7, 20), (8, 9), (8, 10), (8, 11), (8, 12), (8, 13), (8, 14), (8, 15), (8, 16), (8, 17), (8, 18), (8, 19), (8, 20), (9, 10), (9, 11), (9, 12), (9, 13), (9, 14), (9, 15), (9, 16), (9, 17), (9, 18), (9, 19), (9, 20), (10, 11), (10, 12), (10, 13), (10, 14), (10, 15), (10, 16), (10, 17), (10, 18), (10, 19), (10, 20), (11, 12), (11, 13), (11, 14), (11, 15), (11, 16), (11, 17), (11, 18), (11, 19), (11, 20), (12, 13), (12, 14), (12, 15), (12, 16), (12, 17), (12, 18), (12, 19), (12, 20), (13, 14), (13, 15), (13, 16), (13, 17), (13, 18), (13, 19), (13, 20), (14, 15), (14, 16), (14, 17), (14, 18), (14, 19), (14, 20), (15, 16), (15, 17), (15, 18), (15, 19), (15, 20), (16, 17), (16, 18), (16, 19), (16, 20), (17, 18), (17, 19), (17, 20), (18, 19), (18, 20), (19, 20)])"
            ]
          },
          "metadata": {},
          "execution_count": 245
        }
      ]
    },
    {
      "cell_type": "code",
      "source": [
        "import matplotlib.pyplot as plt\n",
        "\n",
        "plt.figure(figsize=(7,7))\n",
        "plt.xticks([])\n",
        "plt.yticks([])\n",
        "nx.draw_networkx(G, pos=nx.spring_layout(G, seed=42), with_labels=False)\n",
        "plt.show()"
      ],
      "metadata": {
        "colab": {
          "base_uri": "https://localhost:8080/",
          "height": 411
        },
        "id": "zBTBKJ59G1iC",
        "outputId": "bac52da4-c923-4872-f033-3aef9d1fb464"
      },
      "execution_count": 246,
      "outputs": [
        {
          "output_type": "display_data",
          "data": {
            "text/plain": [
              "<Figure size 504x504 with 1 Axes>"
            ],
            "image/png": "[encoded data removed]"
          },
          "metadata": {}
        }
      ]
    },
    {
      "cell_type": "code",
      "source": [
        "#G = to_networkx(data, to_undirected=True)\n",
        "import matplotlib.pyplot as plt\n",
        "def visualize_graph(G):\n",
        "    plt.figure(figsize=(7,7))\n",
        "    plt.xticks([])\n",
        "    plt.yticks([])\n",
        "    nx.draw_networkx(G, pos=nx.spring_layout(G, seed=42), with_labels=False,\n",
        "                     node_color=color, cmap=\"Set2\")\n",
        "    plt.show()\n",
        "\n",
        "\n",
        "visualize_graph(G)"
      ],
      "metadata": {
        "colab": {
          "base_uri": "https://localhost:8080/",
          "height": 484
        },
        "id": "yIR1LqoAGH-D",
        "outputId": "09ea65a1-ccb1-4815-e9ac-84ca1173cf6a"
      },
      "execution_count": 219,
      "outputs": [
        {
          "output_type": "stream",
          "name": "stderr",
          "text": [
            "<string>:6: UserWarning: Warning: converting a masked element to nan.\n",
            "/usr/local/lib/python3.7/dist-packages/matplotlib/colors.py:993: UserWarning: Warning: converting a masked element to nan.\n",
            "  data = np.asarray(value)\n"
          ]
        },
        {
          "output_type": "display_data",
          "data": {
            "text/plain": [
              "<Figure size 504x504 with 1 Axes>"
            ],
            "image/png": "[encoded data removed]"
          },
          "metadata": {}
        }
      ]
    },
    {
      "cell_type": "code",
      "source": [
        "data"
      ],
      "metadata": {
        "colab": {
          "base_uri": "https://localhost:8080/"
        },
        "id": "eSSmPwzsDg8q",
        "outputId": "956f1ed3-ecb3-42e5-8cdb-855c47002f7d"
      },
      "execution_count": 195,
      "outputs": [
        {
          "output_type": "execute_result",
          "data": {
            "text/plain": [
              "Data(x=[210, 896], edge_index=[2, 2302], y=[210], weight=[2302])"
            ]
          },
          "metadata": {},
          "execution_count": 195
        }
      ]
    },
    {
      "cell_type": "code",
      "source": [
        "# Train classifier"
      ],
      "metadata": {
        "colab": {
          "base_uri": "https://localhost:8080/"
        },
        "id": "Up0bscnABUU3",
        "outputId": "4a970608-4c62-42b0-f687-b9247d1b4b58"
      },
      "execution_count": 176,
      "outputs": [
        {
          "output_type": "stream",
          "name": "stderr",
          "text": [
            "/usr/local/lib/python3.7/dist-packages/ipykernel_launcher.py:30: RuntimeWarning: divide by zero encountered in true_divide\n"
          ]
        }
      ]
    },
    {
      "cell_type": "code",
      "source": [
        ""
      ],
      "metadata": {
        "colab": {
          "base_uri": "https://localhost:8080/",
          "height": 169
        },
        "id": "jFh5FxaNAs-D",
        "outputId": "8039b1ad-638c-4613-feb7-f546eba55c1e"
      },
      "execution_count": 180,
      "outputs": [
        {
          "output_type": "error",
          "ename": "AttributeError",
          "evalue": "ignored",
          "traceback": [
            "\u001b[0;31m---------------------------------------------------------------------------\u001b[0m",
            "\u001b[0;31mAttributeError\u001b[0m                            Traceback (most recent call last)",
            "\u001b[0;32m<ipython-input-180-97c6f289e8af>\u001b[0m in \u001b[0;36m<module>\u001b[0;34m()\u001b[0m\n\u001b[0;32m----> 1\u001b[0;31m \u001b[0mn\u001b[0m\u001b[0;34m[\u001b[0m\u001b[0;36m0\u001b[0m\u001b[0;34m]\u001b[0m\u001b[0;34m.\u001b[0m\u001b[0mkeys\u001b[0m\u001b[0;34m(\u001b[0m\u001b[0;34m)\u001b[0m\u001b[0;34m\u001b[0m\u001b[0;34m\u001b[0m\u001b[0m\n\u001b[0m",
            "\u001b[0;31mAttributeError\u001b[0m: 'tuple' object has no attribute 'keys'"
          ]
        }
      ]
    },
    {
      "cell_type": "code",
      "source": [
        ""
      ],
      "metadata": {
        "id": "bkLSIbVXrdfF"
      },
      "execution_count": 82,
      "outputs": []
    },
    {
      "cell_type": "code",
      "source": [
        "\n",
        "\n",
        "row = df.iloc[10]\n",
        "cands = create_network(row)\n",
        "cands.reset_index(inplace=True,drop=True)\n",
        "cands['y'] = 0\n",
        "cands.loc[cands.wikidata_id==row.wkdt_qid,'y'] = 1\n",
        "cands\n"
      ],
      "metadata": {
        "colab": {
          "base_uri": "https://localhost:8080/",
          "height": 707
        },
        "id": "sNnVyfcrxdvK",
        "outputId": "d80a4886-42af-44f0-d12f-3bd3bc39bbc6"
      },
      "execution_count": 96,
      "outputs": [
        {
          "output_type": "execute_result",
          "data": {
            "text/plain": [
              "   wikidata_id   longitude   latitude  y\n",
              "0      Q891827   72.833333  18.966667  0\n",
              "1      Q891832  175.021992 -37.210781  0\n",
              "2    Q16911855   72.835500  18.939800  0\n",
              "3     Q3634490   72.850000  18.960000  0\n",
              "4     Q3708546  -74.567778  44.938889  0\n",
              "5      Q827761   72.891110  19.136670  0\n",
              "6     Q2627082   72.825833  18.975000  0\n",
              "7    Q14705729  -74.074000  40.735400  0\n",
              "8        Q1156   72.877393  19.075990  1\n",
              "9     Q7373829   72.800000  18.966667  0\n",
              "10     Q504368   72.868056  19.088611  0\n",
              "11     Q674812   72.833889  19.098056  0\n",
              "12     Q891830   72.841000  18.928700  0\n",
              "13    Q4786546   72.824722  18.932222  0\n",
              "14    Q4940560   72.831211  18.937431  0\n",
              "15     Q177067   72.825722  18.938917  0\n",
              "16     Q695852   72.830461  18.931183  0\n",
              "17       Q1352   80.275000  13.082500  0\n",
              "18    Q1661242   72.915358  19.133636  0\n",
              "19    Q7420006   72.841389  19.081667  0\n",
              "20   Q38081645  149.651111 -35.431667  0"
            ],
            "text/html": [
              "\n",
              "  <div id=\"df-d4170473-af7c-4733-8b05-4693b7ba4118\">\n",
              "    <div class=\"colab-df-container\">\n",
              "      <div>\n",
              "<style scoped>\n",
              "    .dataframe tbody tr th:only-of-type {\n",
              "        vertical-align: middle;\n",
              "    }\n",
              "\n",
              "    .dataframe tbody tr th {\n",
              "        vertical-align: top;\n",
              "    }\n",
              "\n",
              "    .dataframe thead th {\n",
              "        text-align: right;\n",
              "    }\n",
              "</style>\n",
              "<table border=\"1\" class=\"dataframe\">\n",
              "  <thead>\n",
              "    <tr style=\"text-align: right;\">\n",
              "      <th></th>\n",
              "      <th>wikidata_id</th>\n",
              "      <th>longitude</th>\n",
              "      <th>latitude</th>\n",
              "      <th>y</th>\n",
              "    </tr>\n",
              "  </thead>\n",
              "  <tbody>\n",
              "    <tr>\n",
              "      <th>0</th>\n",
              "      <td>Q891827</td>\n",
              "      <td>72.833333</td>\n",
              "      <td>18.966667</td>\n",
              "      <td>0</td>\n",
              "    </tr>\n",
              "    <tr>\n",
              "      <th>1</th>\n",
              "      <td>Q891832</td>\n",
              "      <td>175.021992</td>\n",
              "      <td>-37.210781</td>\n",
              "      <td>0</td>\n",
              "    </tr>\n",
              "    <tr>\n",
              "      <th>2</th>\n",
              "      <td>Q16911855</td>\n",
              "      <td>72.835500</td>\n",
              "      <td>18.939800</td>\n",
              "      <td>0</td>\n",
              "    </tr>\n",
              "    <tr>\n",
              "      <th>3</th>\n",
              "      <td>Q3634490</td>\n",
              "      <td>72.850000</td>\n",
              "      <td>18.960000</td>\n",
              "      <td>0</td>\n",
              "    </tr>\n",
              "    <tr>\n",
              "      <th>4</th>\n",
              "      <td>Q3708546</td>\n",
              "      <td>-74.567778</td>\n",
              "      <td>44.938889</td>\n",
              "      <td>0</td>\n",
              "    </tr>\n",
              "    <tr>\n",
              "      <th>5</th>\n",
              "      <td>Q827761</td>\n",
              "      <td>72.891110</td>\n",
              "      <td>19.136670</td>\n",
              "      <td>0</td>\n",
              "    </tr>\n",
              "    <tr>\n",
              "      <th>6</th>\n",
              "      <td>Q2627082</td>\n",
              "      <td>72.825833</td>\n",
              "      <td>18.975000</td>\n",
              "      <td>0</td>\n",
              "    </tr>\n",
              "    <tr>\n",
              "      <th>7</th>\n",
              "      <td>Q14705729</td>\n",
              "      <td>-74.074000</td>\n",
              "      <td>40.735400</td>\n",
              "      <td>0</td>\n",
              "    </tr>\n",
              "    <tr>\n",
              "      <th>8</th>\n",
              "      <td>Q1156</td>\n",
              "      <td>72.877393</td>\n",
              "      <td>19.075990</td>\n",
              "      <td>1</td>\n",
              "    </tr>\n",
              "    <tr>\n",
              "      <th>9</th>\n",
              "      <td>Q7373829</td>\n",
              "      <td>72.800000</td>\n",
              "      <td>18.966667</td>\n",
              "      <td>0</td>\n",
              "    </tr>\n",
              "    <tr>\n",
              "      <th>10</th>\n",
              "      <td>Q504368</td>\n",
              "      <td>72.868056</td>\n",
              "      <td>19.088611</td>\n",
              "      <td>0</td>\n",
              "    </tr>\n",
              "    <tr>\n",
              "      <th>11</th>\n",
              "      <td>Q674812</td>\n",
              "      <td>72.833889</td>\n",
              "      <td>19.098056</td>\n",
              "      <td>0</td>\n",
              "    </tr>\n",
              "    <tr>\n",
              "      <th>12</th>\n",
              "      <td>Q891830</td>\n",
              "      <td>72.841000</td>\n",
              "      <td>18.928700</td>\n",
              "      <td>0</td>\n",
              "    </tr>\n",
              "    <tr>\n",
              "      <th>13</th>\n",
              "      <td>Q4786546</td>\n",
              "      <td>72.824722</td>\n",
              "      <td>18.932222</td>\n",
              "      <td>0</td>\n",
              "    </tr>\n",
              "    <tr>\n",
              "      <th>14</th>\n",
              "      <td>Q4940560</td>\n",
              "      <td>72.831211</td>\n",
              "      <td>18.937431</td>\n",
              "      <td>0</td>\n",
              "    </tr>\n",
              "    <tr>\n",
              "      <th>15</th>\n",
              "      <td>Q177067</td>\n",
              "      <td>72.825722</td>\n",
              "      <td>18.938917</td>\n",
              "      <td>0</td>\n",
              "    </tr>\n",
              "    <tr>\n",
              "      <th>16</th>\n",
              "      <td>Q695852</td>\n",
              "      <td>72.830461</td>\n",
              "      <td>18.931183</td>\n",
              "      <td>0</td>\n",
              "    </tr>\n",
              "    <tr>\n",
              "      <th>17</th>\n",
              "      <td>Q1352</td>\n",
              "      <td>80.275000</td>\n",
              "      <td>13.082500</td>\n",
              "      <td>0</td>\n",
              "    </tr>\n",
              "    <tr>\n",
              "      <th>18</th>\n",
              "      <td>Q1661242</td>\n",
              "      <td>72.915358</td>\n",
              "      <td>19.133636</td>\n",
              "      <td>0</td>\n",
              "    </tr>\n",
              "    <tr>\n",
              "      <th>19</th>\n",
              "      <td>Q7420006</td>\n",
              "      <td>72.841389</td>\n",
              "      <td>19.081667</td>\n",
              "      <td>0</td>\n",
              "    </tr>\n",
              "    <tr>\n",
              "      <th>20</th>\n",
              "      <td>Q38081645</td>\n",
              "      <td>149.651111</td>\n",
              "      <td>-35.431667</td>\n",
              "      <td>0</td>\n",
              "    </tr>\n",
              "  </tbody>\n",
              "</table>\n",
              "</div>\n",
              "      <button class=\"colab-df-convert\" onclick=\"convertToInteractive('df-d4170473-af7c-4733-8b05-4693b7ba4118')\"\n",
              "              title=\"Convert this dataframe to an interactive table.\"\n",
              "              style=\"display:none;\">\n",
              "        \n",
              "  <svg xmlns=\"http://www.w3.org/2000/svg\" height=\"24px\"viewBox=\"0 0 24 24\"\n",
              "       width=\"24px\">\n",
              "    <path d=\"M0 0h24v24H0V0z\" fill=\"none\"/>\n",
              "    <path d=\"M18.56 5.44l.94 2.06.94-2.06 2.06-.94-2.06-.94-.94-2.06-.94 2.06-2.06.94zm-11 1L8.5 8.5l.94-2.06 2.06-.94-2.06-.94L8.5 2.5l-.94 2.06-2.06.94zm10 10l.94 2.06.94-2.06 2.06-.94-2.06-.94-.94-2.06-.94 2.06-2.06.94z\"/><path d=\"M17.41 7.96l-1.37-1.37c-.4-.4-.92-.59-1.43-.59-.52 0-1.04.2-1.43.59L10.3 9.45l-7.72 7.72c-.78.78-.78 2.05 0 2.83L4 21.41c.39.39.9.59 1.41.59.51 0 1.02-.2 1.41-.59l7.78-7.78 2.81-2.81c.8-.78.8-2.07 0-2.86zM5.41 20L4 18.59l7.72-7.72 1.47 1.35L5.41 20z\"/>\n",
              "  </svg>\n",
              "      </button>\n",
              "      \n",
              "  <style>\n",
              "    .colab-df-container {\n",
              "      display:flex;\n",
              "      flex-wrap:wrap;\n",
              "      gap: 12px;\n",
              "    }\n",
              "\n",
              "    .colab-df-convert {\n",
              "      background-color: #E8F0FE;\n",
              "      border: none;\n",
              "      border-radius: 50%;\n",
              "      cursor: pointer;\n",
              "      display: none;\n",
              "      fill: #1967D2;\n",
              "      height: 32px;\n",
              "      padding: 0 0 0 0;\n",
              "      width: 32px;\n",
              "    }\n",
              "\n",
              "    .colab-df-convert:hover {\n",
              "      background-color: #E2EBFA;\n",
              "      box-shadow: 0px 1px 2px rgba(60, 64, 67, 0.3), 0px 1px 3px 1px rgba(60, 64, 67, 0.15);\n",
              "      fill: #174EA6;\n",
              "    }\n",
              "\n",
              "    [theme=dark] .colab-df-convert {\n",
              "      background-color: #3B4455;\n",
              "      fill: #D2E3FC;\n",
              "    }\n",
              "\n",
              "    [theme=dark] .colab-df-convert:hover {\n",
              "      background-color: #434B5C;\n",
              "      box-shadow: 0px 1px 3px 1px rgba(0, 0, 0, 0.15);\n",
              "      filter: drop-shadow(0px 1px 2px rgba(0, 0, 0, 0.3));\n",
              "      fill: #FFFFFF;\n",
              "    }\n",
              "  </style>\n",
              "\n",
              "      <script>\n",
              "        const buttonEl =\n",
              "          document.querySelector('#df-d4170473-af7c-4733-8b05-4693b7ba4118 button.colab-df-convert');\n",
              "        buttonEl.style.display =\n",
              "          google.colab.kernel.accessAllowed ? 'block' : 'none';\n",
              "\n",
              "        async function convertToInteractive(key) {\n",
              "          const element = document.querySelector('#df-d4170473-af7c-4733-8b05-4693b7ba4118');\n",
              "          const dataTable =\n",
              "            await google.colab.kernel.invokeFunction('convertToInteractive',\n",
              "                                                     [key], {});\n",
              "          if (!dataTable) return;\n",
              "\n",
              "          const docLinkHtml = 'Like what you see? Visit the ' +\n",
              "            '<a target=\"_blank\" href=https://colab.research.google.com/notebooks/data_table.ipynb>data table notebook</a>'\n",
              "            + ' to learn more about interactive tables.';\n",
              "          element.innerHTML = '';\n",
              "          dataTable['output_type'] = 'display_data';\n",
              "          await google.colab.output.renderOutput(dataTable, element);\n",
              "          const docLink = document.createElement('div');\n",
              "          docLink.innerHTML = docLinkHtml;\n",
              "          element.appendChild(docLink);\n",
              "        }\n",
              "      </script>\n",
              "    </div>\n",
              "  </div>\n",
              "  "
            ]
          },
          "metadata": {},
          "execution_count": 96
        }
      ]
    },
    {
      "cell_type": "code",
      "source": [
        "\n",
        "create_x(row,'Q891832').shape"
      ],
      "metadata": {
        "colab": {
          "base_uri": "https://localhost:8080/"
        },
        "id": "iVMAovP-211I",
        "outputId": "ca594cf1-ed60-4aca-9228-f2353bc03b99"
      },
      "execution_count": 137,
      "outputs": [
        {
          "output_type": "execute_result",
          "data": {
            "text/plain": [
              "(896,)"
            ]
          },
          "metadata": {},
          "execution_count": 137
        }
      ]
    },
    {
      "cell_type": "code",
      "source": [
        ""
      ],
      "metadata": {
        "id": "ysppvVityy6m"
      },
      "execution_count": 160,
      "outputs": []
    },
    {
      "cell_type": "code",
      "source": [
        "distances = pdist(cands[['longitude','latitude']].values, metric=get_distance)\n",
        "dist_matrix = squareform(distances)\n",
        "one_over_dist = 1 / dist_matrix\n"
      ],
      "metadata": {
        "colab": {
          "base_uri": "https://localhost:8080/"
        },
        "id": "bKRJz4VyqCQn",
        "outputId": "23b8d60b-654c-4b61-aac8-1f0fa860cdd6"
      },
      "execution_count": 149,
      "outputs": [
        {
          "output_type": "stream",
          "name": "stderr",
          "text": [
            "/usr/local/lib/python3.7/dist-packages/ipykernel_launcher.py:3: RuntimeWarning: divide by zero encountered in true_divide\n",
            "  This is separate from the ipykernel package so we can avoid doing imports until\n"
          ]
        }
      ]
    },
    {
      "cell_type": "code",
      "source": [
        "list(cands.wikidata_id).index('Q4786546')"
      ],
      "metadata": {
        "colab": {
          "base_uri": "https://localhost:8080/"
        },
        "id": "YkB_Q2cWvqC3",
        "outputId": "80d7221b-7df3-4af1-838e-4747146fa59b"
      },
      "execution_count": 150,
      "outputs": [
        {
          "output_type": "execute_result",
          "data": {
            "text/plain": [
              "13"
            ]
          },
          "metadata": {},
          "execution_count": 150
        }
      ]
    },
    {
      "cell_type": "code",
      "source": [
        ""
      ],
      "metadata": {
        "colab": {
          "base_uri": "https://localhost:8080/"
        },
        "id": "Ho70kv0Z6Z0e",
        "outputId": "da807d1f-060a-426b-fdf1-a1bef4bbc60f"
      },
      "execution_count": 151,
      "outputs": [
        {
          "output_type": "execute_result",
          "data": {
            "text/plain": [
              "<itertools.combinations at 0x7f8ade22f650>"
            ]
          },
          "metadata": {},
          "execution_count": 151
        }
      ]
    },
    {
      "cell_type": "code",
      "source": [
        "\n",
        "\n",
        "edges = []\n",
        "for s,e in combs:\n",
        "  #i = list(cands.wikidata_id).index(s)\n",
        "  #j =  list(cands.wikidata_id).index(e)\n",
        "  distance = one_over_dist[s,e]\n",
        "  #edges.append((wikidata2idx[s],wikidata2idx[e],distance))\n",
        "  edges.append((s,e,distance))\n",
        "edges"
      ],
      "metadata": {
        "colab": {
          "base_uri": "https://localhost:8080/"
        },
        "id": "vm5I4txes8KK",
        "outputId": "960b2886-e6f8-4c85-d02c-091a7d239671"
      },
      "execution_count": 152,
      "outputs": [
        {
          "output_type": "execute_result",
          "data": {
            "text/plain": [
              "[(0, 1, 8.114526349360608e-05),\n",
              " (0, 2, 0.33376123282967685),\n",
              " (0, 3, 0.5254762753032891),\n",
              " (0, 4, 8.210315199905772e-05),\n",
              " (0, 5, 0.0503653594051801),\n",
              " (0, 6, 0.8218405895663776),\n",
              " (0, 7, 7.969452999371931e-05),\n",
              " (0, 8, 0.0768718603086879),\n",
              " (0, 9, 0.28528809217652695),\n",
              " (0, 10, 0.07121372027991626),\n",
              " (0, 11, 0.0684467048282149),\n",
              " (0, 12, 0.2326635479907654),\n",
              " (0, 13, 0.2540833513535203),\n",
              " (0, 14, 0.306885371012819),\n",
              " (0, 15, 0.3136974840860559),\n",
              " (0, 16, 0.25270489329389534),\n",
              " (0, 17, 0.0009713449307405488),\n",
              " (0, 18, 0.04885167271626792),\n",
              " (0, 19, 0.07803094872818789),\n",
              " (0, 20, 9.912345160700591e-05),\n",
              " (1, 2, 8.115740300365545e-05),\n",
              " (1, 3, 8.115757901713042e-05),\n",
              " (1, 4, 6.993613872132582e-05),\n",
              " (1, 5, 8.110974755279184e-05),\n",
              " (1, 6, 8.113756248899948e-05),\n",
              " (1, 7, 7.048718768371285e-05),\n",
              " (1, 8, 8.112639228866159e-05),\n",
              " (1, 9, 8.112604407704252e-05),\n",
              " (1, 10, 8.111590569667284e-05),\n",
              " (1, 11, 8.109240804425668e-05),\n",
              " (1, 12, 8.116507722213693e-05),\n",
              " (1, 13, 8.11542573253782e-05),\n",
              " (1, 14, 8.115588906238756e-05),\n",
              " (1, 15, 8.115212018392957e-05),\n",
              " (1, 16, 8.115798948715262e-05),\n",
              " (1, 17, 8.851555926058572e-05),\n",
              " (1, 18, 8.11249421528159e-05),\n",
              " (1, 19, 8.110335349970492e-05),\n",
              " (1, 20, 0.00043960272992438497),\n",
              " (2, 3, 0.3683401184783719),\n",
              " (2, 4, 8.208411903324938e-05),\n",
              " (2, 5, 0.04413468547095284),\n",
              " (2, 6, 0.24728405679633306),\n",
              " (2, 7, 7.96769297403998e-05),\n",
              " (2, 8, 0.06340713025203666),\n",
              " (2, 9, 0.2091367227743096),\n",
              " (2, 10, 0.05918113638230932),\n",
              " (2, 11, 0.056824383313906664),\n",
              " (2, 12, 0.7336208315009166),\n",
              " (2, 13, 0.7079775151978569),\n",
              " (2, 14, 1.9143182068929865),\n",
              " (2, 15, 0.9679803915507978),\n",
              " (2, 16, 0.9132620016248155),\n",
              " (2, 17, 0.0009732644766680473),\n",
              " (2, 18, 0.04323301347532882),\n",
              " (2, 19, 0.06334311674865578),\n",
              " (2, 20, 9.914309958436338e-05),\n",
              " (3, 4, 8.20938029658964e-05),\n",
              " (3, 5, 0.04971564454308701),\n",
              " (3, 6, 0.32896923011104556),\n",
              " (3, 7, 7.968532703807779e-05),\n",
              " (3, 8, 0.07567116221951274),\n",
              " (3, 9, 0.1883237460605201),\n",
              " (3, 10, 0.0693178388287961),\n",
              " (3, 11, 0.06474896312294799),\n",
              " (3, 12, 0.27725259381059164),\n",
              " (3, 13, 0.24537983698919277),\n",
              " (3, 14, 0.3130729180151966),\n",
              " (3, 15, 0.28849339257876044),\n",
              " (3, 16, 0.2627003514764628),\n",
              " (3, 17, 0.0009730786586979736),\n",
              " (3, 18, 0.048796823149055014),\n",
              " (3, 19, 0.07375173081265952),\n",
              " (3, 20, 9.914155167878807e-05),\n",
              " (4, 5, 8.220328444841769e-05),\n",
              " (4, 6, 8.211101593988751e-05),\n",
              " (4, 7, 0.002131583924643078),\n",
              " (4, 8, 8.21655234928835e-05),\n",
              " (4, 9, 8.211271853180255e-05),\n",
              " (4, 10, 8.217686810009275e-05),\n",
              " (4, 11, 8.219315793600511e-05),\n",
              " (4, 12, 8.207493790102797e-05),\n",
              " (4, 13, 8.208201899207418e-05),\n",
              " (4, 14, 8.208372613153455e-05),\n",
              " (4, 15, 8.2086318716135e-05),\n",
              " (4, 16, 8.207966102555619e-05),\n",
              " (4, 17, 7.643488593120618e-05),\n",
              " (4, 18, 8.219425303332077e-05),\n",
              " (4, 19, 8.217974719744068e-05),\n",
              " (4, 20, 6.186364233525718e-05),\n",
              " (5, 6, 0.05197083371710362),\n",
              " (5, 7, 7.978465345164713e-05),\n",
              " (5, 8, 0.14493768146756303),\n",
              " (5, 9, 0.04719072629037263),\n",
              " (5, 10, 0.17043814007131744),\n",
              " (5, 11, 0.1353612508702062),\n",
              " (5, 12, 0.04216293530558765),\n",
              " (5, 13, 0.04205121525165695),\n",
              " (5, 14, 0.043418473051626084),\n",
              " (5, 15, 0.0434060462469757),\n",
              " (5, 16, 0.042155297192304854),\n",
              " (5, 17, 0.0009646559813576734),\n",
              " (5, 18, 0.3891770631181555),\n",
              " (5, 19, 0.12432480728788711),\n",
              " (5, 20, 9.905775073445179e-05),\n",
              " (6, 7, 7.97020380553042e-05),\n",
              " (6, 8, 0.08019784156151115),\n",
              " (6, 9, 0.3484128466944735),\n",
              " (6, 10, 0.07468288089568105),\n",
              " (6, 11, 0.07294275785357034),\n",
              " (6, 12, 0.18553704323294976),\n",
              " (6, 13, 0.21016654025820866),\n",
              " (6, 14, 0.2372144980958227),\n",
              " (6, 15, 0.24923587278079784),\n",
              " (6, 16, 0.204228440288752),\n",
              " (6, 17, 0.0009702201716117663),\n",
              " (6, 18, 0.050019543731265624),\n",
              " (6, 19, 0.08352110501971056),\n",
              " (6, 20, 9.911176329471691e-05),\n",
              " (7, 8, 7.975037851487863e-05),\n",
              " (7, 9, 7.97045296090926e-05),\n",
              " (7, 10, 7.976115589557711e-05),\n",
              " (7, 11, 7.97773723705227e-05),\n",
              " (7, 12, 7.966828037880598e-05),\n",
              " (7, 13, 7.967538177005236e-05),\n",
              " (7, 14, 7.96767213793043e-05),\n",
              " (7, 15, 7.96793045620273e-05),\n",
              " (7, 16, 7.967300563019204e-05),\n",
              " (7, 17, 7.421833058556503e-05),\n",
              " (7, 18, 7.977547482188818e-05),\n",
              " (7, 19, 7.976475837701828e-05),\n",
              " (7, 20, 6.179340038619674e-05),\n",
              " (8, 9, 0.06836438448037416),\n",
              " (8, 10, 0.5839856504550075),\n",
              " (8, 11, 0.1927405314935152),\n",
              " (8, 12, 0.05945692354684534),\n",
              " (8, 13, 0.05910798472717233),\n",
              " (8, 14, 0.061904290151902665),\n",
              " (8, 15, 0.06180110536702266),\n",
              " (8, 16, 0.05937943174062886),\n",
              " (8, 17, 0.000967596794825742),\n",
              " (8, 18, 0.1324538310027032),\n",
              " (8, 19, 0.2606984644759086),\n",
              " (8, 20, 9.908685520045385e-05),\n",
              " (9, 10, 0.06522707937075503),\n",
              " (9, 11, 0.0664990238766358),\n",
              " (9, 12, 0.16571171539866011),\n",
              " (9, 13, 0.21601927995297004),\n",
              " (9, 14, 0.21646097539785183),\n",
              " (9, 15, 0.24369347176201625),\n",
              " (9, 16, 0.19675720412416575),\n",
              " (9, 17, 0.000968756280444192),\n",
              " (9, 18, 0.045096822946842814),\n",
              " (9, 19, 0.07403383893360739),\n",
              " (9, 20, 9.909613208984176e-05),\n",
              " (10, 11, 0.2673331208452013),\n",
              " (10, 12, 0.055532837487568563),\n",
              " (10, 13, 0.0556281494695462),\n",
              " (10, 14, 0.05796785742408341),\n",
              " (10, 15, 0.05803858622633425),\n",
              " (10, 16, 0.05572321943043467),\n",
              " (10, 17, 0.000966057937827248),\n",
              " (10, 18, 0.1417548695754663),\n",
              " (10, 19, 0.34403517029375064),\n",
              " (10, 20, 9.907082651349007e-05),\n",
              " (11, 12, 0.05306064265022656),\n",
              " (11, 13, 0.05415632268074105),\n",
              " (11, 14, 0.055981939782025085),\n",
              " (11, 15, 0.056445305588906106),\n",
              " (11, 16, 0.05388241605155895),\n",
              " (11, 17, 0.0009628487191056616),\n",
              " (11, 18, 0.10604983944199638),\n",
              " (11, 19, 0.5036555211874765),\n",
              " (11, 20, 9.903660706386857e-05),\n",
              " (12, 13, 0.5693623018095574),\n",
              " (12, 14, 0.706646165393563),\n",
              " (12, 15, 0.5081406390505266),\n",
              " (12, 16, 0.8753732760474957),\n",
              " (12, 17, 0.0009744197249765676),\n",
              " (12, 18, 0.0415091337774171),\n",
              " (12, 19, 0.05879170058642433),\n",
              " (12, 20, 9.915499731559634e-05),\n",
              " (13, 14, 1.1171298873146605),\n",
              " (13, 15, 1.3300646084081038),\n",
              " (13, 16, 1.627115891086199),\n",
              " (13, 17, 0.0009729143781999517),\n",
              " (13, 18, 0.04108726565927043),\n",
              " (13, 19, 0.059845645795077174),\n",
              " (13, 20, 9.913930063335925e-05),\n",
              " (14, 15, 1.6653024345050589),\n",
              " (14, 16, 1.4301856608494214),\n",
              " (14, 17, 0.000973083233065629),\n",
              " (14, 18, 0.04247762904598796),\n",
              " (14, 19, 0.062212400294839654),\n",
              " (14, 20, 9.914115778176048e-05),\n",
              " (15, 16, 1.0060502148546608),\n",
              " (15, 17, 0.0009725571916054615),\n",
              " (15, 18, 0.042349592348211035),\n",
              " (15, 19, 0.06266330914649508),\n",
              " (15, 20, 9.913566740437396e-05),\n",
              " (16, 17, 0.0009734314349672038),\n",
              " (16, 18, 0.04129490970408433),\n",
              " (16, 19, 0.059621573423041495),\n",
              " (16, 20, 9.914469928549076e-05),\n",
              " (17, 18, 0.0009666903354418199),\n",
              " (17, 19, 0.000964482010964849),\n",
              " (17, 20, 0.00011038687598214759),\n",
              " (18, 19, 0.10325505773994098),\n",
              " (18, 20, 9.907959715165316e-05),\n",
              " (19, 20, 9.905362296254371e-05)]"
            ]
          },
          "metadata": {},
          "execution_count": 152
        }
      ]
    },
    {
      "cell_type": "code",
      "source": [
        ""
      ],
      "metadata": {
        "colab": {
          "base_uri": "https://localhost:8080/"
        },
        "id": "VGVxYncM7DiN",
        "outputId": "432c411b-13de-43b6-8517-87a60aa88b27"
      },
      "execution_count": 162,
      "outputs": [
        {
          "output_type": "stream",
          "name": "stderr",
          "text": [
            "/usr/local/lib/python3.7/dist-packages/torch_geometric/utils/convert.py:189: UserWarning: Creating a tensor from a list of numpy.ndarrays is extremely slow. Please consider converting the list to a single numpy.ndarray with numpy.array() before converting to a tensor. (Triggered internally at  ../torch/csrc/utils/tensor_new.cpp:201.)\n",
            "  data[key] = torch.tensor(value)\n"
          ]
        }
      ]
    },
    {
      "cell_type": "code",
      "source": [
        "data_all"
      ],
      "metadata": {
        "colab": {
          "base_uri": "https://localhost:8080/"
        },
        "id": "LaDbUnIXsDoD",
        "outputId": "6c0b4999-0e09-4f77-9a49-91bbeb64e02c"
      },
      "execution_count": 163,
      "outputs": [
        {
          "output_type": "execute_result",
          "data": {
            "text/plain": [
              "Data(x=[21, 896], edge_index=[2, 420], y=[21], weight=[420])"
            ]
          },
          "metadata": {},
          "execution_count": 163
        }
      ]
    },
    {
      "cell_type": "code",
      "source": [
        ""
      ],
      "metadata": {
        "colab": {
          "base_uri": "https://localhost:8080/"
        },
        "id": "1kdFQWSlrnZo",
        "outputId": "d9eb8c4a-4788-4aed-ecb5-d67f4129ce9c"
      },
      "execution_count": 50,
      "outputs": [
        {
          "output_type": "execute_result",
          "data": {
            "text/plain": [
              "22950       Q891827\n",
              "138807      Q891832\n",
              "223393    Q16911855\n",
              "283412     Q3634490\n",
              "283852     Q3708546\n",
              "370113      Q827761\n",
              "390916     Q2627082\n",
              "446533    Q14705729\n",
              "464616        Q1156\n",
              "553993     Q7373829\n",
              "595655      Q504368\n",
              "599845      Q674812\n",
              "604050      Q891830\n",
              "637441     Q4786546\n",
              "640289     Q4940560\n",
              "701903      Q177067\n",
              "711683      Q695852\n",
              "813845        Q1352\n",
              "841754     Q1661242\n",
              "898720     Q7420006\n",
              "925085    Q38081645\n",
              "Name: wikidata_id, dtype: object"
            ]
          },
          "metadata": {},
          "execution_count": 50
        }
      ]
    },
    {
      "cell_type": "code",
      "source": [
        "dist_matrix"
      ],
      "metadata": {
        "colab": {
          "base_uri": "https://localhost:8080/"
        },
        "id": "YmrhorTkrSzH",
        "outputId": "4202f643-66f4-4520-e321-b03400c3dcfa"
      },
      "execution_count": 51,
      "outputs": [
        {
          "output_type": "execute_result",
          "data": {
            "text/plain": [
              "array([[0.00000000e+00, 1.23235782e+04, 2.99615384e+00, 1.90303549e+00,\n",
              "        1.21798004e+04, 1.98549164e+01, 1.21678098e+00, 1.25479126e+04,\n",
              "        1.30086614e+01, 3.50522867e+00, 1.40422379e+01, 1.46099071e+01,\n",
              "        4.29805188e+00, 3.93571635e+00, 3.25854568e+00, 3.18778457e+00,\n",
              "        3.95718495e+00, 1.02950041e+03, 2.04701281e+01, 1.28154279e+01,\n",
              "        1.00884300e+04],\n",
              "       [1.23235782e+04, 0.00000000e+00, 1.23217348e+04, 1.23217081e+04,\n",
              "        1.42987591e+04, 1.23289744e+04, 1.23247479e+04, 1.41869754e+04,\n",
              "        1.23264448e+04, 1.23264978e+04, 1.23280384e+04, 1.23316106e+04,\n",
              "        1.23205698e+04, 1.23222125e+04, 1.23219647e+04, 1.23225370e+04,\n",
              "        1.23216458e+04, 1.12974488e+04, 1.23266652e+04, 1.23299464e+04,\n",
              "        2.27478114e+03],\n",
              "       [2.99615384e+00, 1.23217348e+04, 0.00000000e+00, 2.71488212e+00,\n",
              "        1.21826245e+04, 2.26579161e+01, 4.04393236e+00, 1.25506844e+04,\n",
              "        1.57710970e+01, 4.78156101e+00, 1.68972761e+01, 1.75980792e+01,\n",
              "        1.36310197e+00, 1.41247424e+00, 5.22379193e-01, 1.03307878e+00,\n",
              "        1.09497603e+00, 1.02746995e+03, 2.31304718e+01, 1.57870350e+01,\n",
              "        1.00864307e+04],\n",
              "       [1.90303549e+00, 1.23217081e+04, 2.71488212e+00, 0.00000000e+00,\n",
              "        1.21811874e+04, 2.01143927e+01, 3.03979798e+00, 1.25493618e+04,\n",
              "        1.32150739e+01, 5.31000482e+00, 1.44263009e+01, 1.54442628e+01,\n",
              "        3.60681928e+00, 4.07531447e+00, 3.19414406e+00, 3.46628389e+00,\n",
              "        3.80661843e+00, 1.02766615e+03, 2.04931374e+01, 1.35590038e+01,\n",
              "        1.00865881e+04],\n",
              "       [1.21798004e+04, 1.42987591e+04, 1.21826245e+04, 1.21811874e+04,\n",
              "        0.00000000e+00, 1.21649640e+04, 1.21786339e+04, 4.69134707e+02,\n",
              "        1.21705547e+04, 1.21783814e+04, 1.21688746e+04, 1.21664628e+04,\n",
              "        1.21839873e+04, 1.21829362e+04, 1.21826828e+04, 1.21822980e+04,\n",
              "        1.21832862e+04, 1.30830312e+04, 1.21663007e+04, 1.21684482e+04,\n",
              "        1.61645833e+04],\n",
              "       [1.98549164e+01, 1.23289744e+04, 2.26579161e+01, 2.01143927e+01,\n",
              "        1.21649640e+04, 0.00000000e+00, 1.92415616e+01, 1.25337387e+04,\n",
              "        6.89951702e+00, 2.11906041e+01, 5.86723136e+00, 7.38763859e+00,\n",
              "        2.37175138e+01, 2.37805256e+01, 2.30316713e+01, 2.30382651e+01,\n",
              "        2.37218112e+01, 1.03663899e+03, 2.56952450e+00, 8.04344701e+00,\n",
              "        1.00951212e+04],\n",
              "       [1.21678098e+00, 1.23247479e+04, 4.04393236e+00, 3.03979798e+00,\n",
              "        1.21786339e+04, 1.92415616e+01, 0.00000000e+00, 1.25467306e+04,\n",
              "        1.24691635e+01, 2.87015823e+00, 1.33899495e+01, 1.37093802e+01,\n",
              "        5.38975928e+00, 4.75813133e+00, 4.21559394e+00, 4.01226352e+00,\n",
              "        4.89647768e+00, 1.03069389e+03, 1.99921856e+01, 1.19730217e+01,\n",
              "        1.00896197e+04],\n",
              "       [1.25479126e+04, 1.41869754e+04, 1.25506844e+04, 1.25493618e+04,\n",
              "        4.69134707e+02, 1.25337387e+04, 1.25467306e+04, 0.00000000e+00,\n",
              "        1.25391254e+04, 1.25463384e+04, 1.25374311e+04, 1.25348826e+04,\n",
              "        1.25520470e+04, 1.25509283e+04, 1.25507172e+04, 1.25503103e+04,\n",
              "        1.25513026e+04, 1.34737604e+04, 1.25351808e+04, 1.25368649e+04,\n",
              "        1.61829579e+04],\n",
              "       [1.30086614e+01, 1.23264448e+04, 1.57710970e+01, 1.32150739e+01,\n",
              "        1.21705547e+04, 6.89951702e+00, 1.24691635e+01, 1.25391254e+04,\n",
              "        0.00000000e+00, 1.46274995e+01, 1.71237084e+00, 5.18832231e+00,\n",
              "        1.68188991e+01, 1.69181880e+01, 1.61539693e+01, 1.61809404e+01,\n",
              "        1.68408483e+01, 1.03348833e+03, 7.54980050e+00, 3.83584921e+00,\n",
              "        1.00921560e+04],\n",
              "       [3.50522867e+00, 1.23264978e+04, 4.78156101e+00, 5.31000482e+00,\n",
              "        1.21783814e+04, 2.11906041e+01, 2.87015823e+00, 1.25463384e+04,\n",
              "        1.46274995e+01, 0.00000000e+00, 1.53310559e+01, 1.50378147e+01,\n",
              "        6.03457636e+00, 4.62921643e+00, 4.61977037e+00, 4.10351575e+00,\n",
              "        5.08240603e+00, 1.03225137e+03, 2.21745111e+01, 1.35073368e+01,\n",
              "        1.00912112e+04],\n",
              "       [1.40422379e+01, 1.23280384e+04, 1.68972761e+01, 1.44263009e+01,\n",
              "        1.21688746e+04, 5.86723136e+00, 1.33899495e+01, 1.25374311e+04,\n",
              "        1.71237084e+00, 1.53310559e+01, 0.00000000e+00, 3.74065135e+00,\n",
              "        1.80073637e+01, 1.79765103e+01, 1.72509395e+01, 1.72299166e+01,\n",
              "        1.79458404e+01, 1.03513460e+03, 7.05443138e+00, 2.90667957e+00,\n",
              "        1.00937888e+04],\n",
              "       [1.46099071e+01, 1.23316106e+04, 1.75980792e+01, 1.54442628e+01,\n",
              "        1.21664628e+04, 7.38763859e+00, 1.37093802e+01, 1.25348826e+04,\n",
              "        5.18832231e+00, 1.50378147e+01, 3.74065135e+00, 0.00000000e+00,\n",
              "        1.88463605e+01, 1.84650647e+01, 1.78629037e+01, 1.77162651e+01,\n",
              "        1.85589302e+01, 1.03858475e+03, 9.42952866e+00, 1.98548404e+00,\n",
              "        1.00972764e+04],\n",
              "       [4.29805188e+00, 1.23205698e+04, 1.36310197e+00, 3.60681928e+00,\n",
              "        1.21839873e+04, 2.37175138e+01, 5.38975928e+00, 1.25520470e+04,\n",
              "        1.68188991e+01, 6.03457636e+00, 1.80073637e+01, 1.88463605e+01,\n",
              "        0.00000000e+00, 1.75635092e+00, 1.41513539e+00, 1.96795911e+00,\n",
              "        1.14236981e+00, 1.02625180e+03, 2.40910833e+01, 1.70092035e+01,\n",
              "        1.00852204e+04],\n",
              "       [3.93571635e+00, 1.23222125e+04, 1.41247424e+00, 4.07531447e+00,\n",
              "        1.21829362e+04, 2.37805256e+01, 4.75813133e+00, 1.25509283e+04,\n",
              "        1.69181880e+01, 4.62921643e+00, 1.79765103e+01, 1.84650647e+01,\n",
              "        1.75635092e+00, 0.00000000e+00, 8.95151058e-01, 7.51843176e-01,\n",
              "        6.14584373e-01, 1.02783968e+03, 2.43384412e+01, 1.67096534e+01,\n",
              "        1.00868172e+04],\n",
              "       [3.25854568e+00, 1.23219647e+04, 5.22379193e-01, 3.19414406e+00,\n",
              "        1.21826828e+04, 2.30316713e+01, 4.21559394e+00, 1.25507172e+04,\n",
              "        1.61539693e+01, 4.61977037e+00, 1.72509395e+01, 1.78629037e+01,\n",
              "        1.41513539e+00, 8.95151058e-01, 0.00000000e+00, 6.00491526e-01,\n",
              "        6.99209919e-01, 1.02766132e+03, 2.35418036e+01, 1.60739659e+01,\n",
              "        1.00866282e+04],\n",
              "       [3.18778457e+00, 1.23225370e+04, 1.03307878e+00, 3.46628389e+00,\n",
              "        1.21822980e+04, 2.30382651e+01, 4.01226352e+00, 1.25503103e+04,\n",
              "        1.61809404e+01, 4.10351575e+00, 1.72299166e+01, 1.77162651e+01,\n",
              "        1.96795911e+00, 7.51843176e-01, 6.00491526e-01, 0.00000000e+00,\n",
              "        9.93986170e-01, 1.02821717e+03, 2.36129782e+01, 1.59583018e+01,\n",
              "        1.00871868e+04],\n",
              "       [3.95718495e+00, 1.23216458e+04, 1.09497603e+00, 3.80661843e+00,\n",
              "        1.21832862e+04, 2.37218112e+01, 4.89647768e+00, 1.25513026e+04,\n",
              "        1.68408483e+01, 5.08240603e+00, 1.79458404e+01, 1.85589302e+01,\n",
              "        1.14236981e+00, 6.14584373e-01, 6.99209919e-01, 9.93986170e-01,\n",
              "        0.00000000e+00, 1.02729372e+03, 2.42160597e+01, 1.67724524e+01,\n",
              "        1.00862679e+04],\n",
              "       [1.02950041e+03, 1.12974488e+04, 1.02746995e+03, 1.02766615e+03,\n",
              "        1.30830312e+04, 1.03663899e+03, 1.03069389e+03, 1.34737604e+04,\n",
              "        1.03348833e+03, 1.03225137e+03, 1.03513460e+03, 1.03858475e+03,\n",
              "        1.02625180e+03, 1.02783968e+03, 1.02766132e+03, 1.02821717e+03,\n",
              "        1.02729372e+03, 0.00000000e+00, 1.03445743e+03, 1.03682597e+03,\n",
              "        9.05904793e+03],\n",
              "       [2.04701281e+01, 1.23266652e+04, 2.31304718e+01, 2.04931374e+01,\n",
              "        1.21663007e+04, 2.56952450e+00, 1.99921856e+01, 1.25351808e+04,\n",
              "        7.54980050e+00, 2.21745111e+01, 7.05443138e+00, 9.42952866e+00,\n",
              "        2.40910833e+01, 2.43384412e+01, 2.35418036e+01, 2.36129782e+01,\n",
              "        2.42160597e+01, 1.03445743e+03, 0.00000000e+00, 9.68475561e+00,\n",
              "        1.00928953e+04],\n",
              "       [1.28154279e+01, 1.23299464e+04, 1.57870350e+01, 1.35590038e+01,\n",
              "        1.21684482e+04, 8.04344701e+00, 1.19730217e+01, 1.25368649e+04,\n",
              "        3.83584921e+00, 1.35073368e+01, 2.90667957e+00, 1.98548404e+00,\n",
              "        1.70092035e+01, 1.67096534e+01, 1.60739659e+01, 1.59583018e+01,\n",
              "        1.67724524e+01, 1.03682597e+03, 9.68475561e+00, 0.00000000e+00,\n",
              "        1.00955419e+04],\n",
              "       [1.00884300e+04, 2.27478114e+03, 1.00864307e+04, 1.00865881e+04,\n",
              "        1.61645833e+04, 1.00951212e+04, 1.00896197e+04, 1.61829579e+04,\n",
              "        1.00921560e+04, 1.00912112e+04, 1.00937888e+04, 1.00972764e+04,\n",
              "        1.00852204e+04, 1.00868172e+04, 1.00866282e+04, 1.00871868e+04,\n",
              "        1.00862679e+04, 9.05904793e+03, 1.00928953e+04, 1.00955419e+04,\n",
              "        0.00000000e+00]])"
            ]
          },
          "metadata": {},
          "execution_count": 51
        }
      ]
    },
    {
      "cell_type": "code",
      "source": [
        ""
      ],
      "metadata": {
        "id": "uZfV03GKrf23"
      },
      "execution_count": null,
      "outputs": []
    }
  ]
}