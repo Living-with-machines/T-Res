{
 "cells": [
  {
   "cell_type": "code",
   "execution_count": 1,
   "metadata": {},
   "outputs": [
    {
     "name": "stderr",
     "output_type": "stream",
     "text": [
      "/home/fnanni/.cache/pypoetry/virtualenvs/resolution-TnI2DrHj-py3.9/lib/python3.9/site-packages/thefuzz/fuzz.py:11: UserWarning: Using slow pure-python SequenceMatcher. Install python-Levenshtein to remove this warning\n",
      "  warnings.warn('Using slow pure-python SequenceMatcher. Install python-Levenshtein to remove this warning')\n"
     ]
    }
   ],
   "source": [
    "import os\n",
    "import sys\n",
    "\n",
    "sys.path.insert(0, os.path.abspath(os.path.pardir))\n",
    "from geoparser import pipeline, ranking, linking"
   ]
  },
  {
   "cell_type": "code",
   "execution_count": 2,
   "metadata": {},
   "outputs": [],
   "source": [
    "myranker = ranking.Ranker(\n",
    "    method=\"perfectmatch\",\n",
    "    resources_path=\"../resources/wikidata/\",\n",
    "    mentions_to_wikidata=dict(),\n",
    "    wikidata_to_mentions=dict(),\n",
    ")\n"
   ]
  },
  {
   "cell_type": "code",
   "execution_count": 3,
   "metadata": {},
   "outputs": [],
   "source": [
    "mylinker = linking.Linker(\n",
    "    method=\"mostpopular\",\n",
    "    resources_path=\"../resources/wikidata/\",\n",
    "    linking_resources=dict(),\n",
    "    base_model=\"to-be-removed\",  # Base model for vector extraction\n",
    "    rel_params={},\n",
    "    overwrite_training=False,\n",
    ")"
   ]
  },
  {
   "cell_type": "code",
   "execution_count": 4,
   "metadata": {},
   "outputs": [
    {
     "name": "stdout",
     "output_type": "stream",
     "text": [
      "\n",
      "The NER model is already trained!\n",
      "\n",
      "*** Creating and loading a NER pipeline.\n",
      "*** Loading the ranker resources.\n",
      "*** Load linking resources.\n",
      "  > Loading mentions to wikidata mapping.\n",
      "  > Loading gazetteer.\n",
      "*** Linking resources loaded!\n",
      "\n"
     ]
    }
   ],
   "source": [
    "geoparser = pipeline.Pipeline(myranker=myranker, mylinker=mylinker)"
   ]
  },
  {
   "cell_type": "code",
   "execution_count": 5,
   "metadata": {},
   "outputs": [
    {
     "name": "stdout",
     "output_type": "stream",
     "text": [
      "{'mention': 'Shefrield', 'pos': 74, 'sent_idx': 0, 'end_pos': 83, 'tag': 'LOC', 'sentence': 'A remarkable case of rattening has just occurred in the building trade at Shefrield, but also in Lancaster.', 'prediction': 'NIL', 'ed_score': 0.0, 'latlon': None, 'wkdt_class': None}\n",
      "{'mention': 'Lancaster', 'pos': 97, 'sent_idx': 0, 'end_pos': 106, 'tag': 'LOC', 'sentence': 'A remarkable case of rattening has just occurred in the building trade at Shefrield, but also in Lancaster.', 'prediction': 'Q205905', 'ed_score': 0.407, 'latlon': [54.047, -2.801], 'wkdt_class': 'Q515'}\n",
      "{'mention': 'Nottingham', 'pos': 7, 'sent_idx': 1, 'end_pos': 17, 'tag': 'LOC', 'sentence': 'Not in Nottingham though.', 'prediction': 'Q41262', 'ed_score': 0.917, 'latlon': [52.955, -1.149167], 'wkdt_class': 'Q515'}\n",
      "{'mention': 'Ashton', 'pos': 7, 'sent_idx': 2, 'end_pos': 13, 'tag': 'LOC', 'sentence': 'Not in Ashton either, nor in Salop!', 'prediction': 'Q4805980', 'ed_score': 0.096, 'latlon': [39.149297, -77.012314], 'wkdt_class': 'Q17343829'}\n",
      "{'mention': 'Salop', 'pos': 29, 'sent_idx': 2, 'end_pos': 34, 'tag': 'LOC', 'sentence': 'Not in Ashton either, nor in Salop!', 'prediction': 'Q23103', 'ed_score': 0.969, 'latlon': [52.616667, -2.716667], 'wkdt_class': 'Q180673'}\n"
     ]
    }
   ],
   "source": [
    "resolved = geoparser.run_text(\"A remarkable case of rattening has just occurred in the building trade at Shefrield, but also in Lancaster. Not in Nottingham though. Not in Ashton either, nor in Salop!\",\n",
    "    place_wqid=\"Q18125\")\n",
    "    \n",
    "for r in resolved:\n",
    "    print(r)"
   ]
  },
  {
   "cell_type": "code",
   "execution_count": 6,
   "metadata": {},
   "outputs": [
    {
     "name": "stdout",
     "output_type": "stream",
     "text": [
      "{'mention': 'Sheffield', 'pos': 74, 'sent_idx': 0, 'end_pos': 83, 'tag': 'LOC', 'sentence': 'A remarkable case of rattening has just occurred in the building trade at Sheffield.', 'prediction': 'Q42448', 'ed_score': 0.903, 'latlon': [53.3825, -1.471944], 'wkdt_class': 'Q515'}\n"
     ]
    }
   ],
   "source": [
    "resolved = geoparser.run_sentence(\"A remarkable case of rattening has just occurred in the building trade at Sheffield.\", place_wqid=\"Q18125\")\n",
    "for r in resolved:\n",
    "    print(r)"
   ]
  },
  {
   "cell_type": "code",
   "execution_count": null,
   "metadata": {},
   "outputs": [],
   "source": []
  }
 ],
 "metadata": {
  "kernelspec": {
   "display_name": "toponym_resolution",
   "language": "python",
   "name": "toponym_resolution"
  },
  "language_info": {
   "codemirror_mode": {
    "name": "ipython",
    "version": 3
   },
   "file_extension": ".py",
   "mimetype": "text/x-python",
   "name": "python",
   "nbconvert_exporter": "python",
   "pygments_lexer": "ipython3",
   "version": "3.9.7"
  },
  "orig_nbformat": 4,
  "vscode": {
   "interpreter": {
    "hash": "6d8ee49ef89499b35d53fe5486382f26a7b9295ea66494fc0fba233eb639bbde"
   }
  }
 },
 "nbformat": 4,
 "nbformat_minor": 2
}
