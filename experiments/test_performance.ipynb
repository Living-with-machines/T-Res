{
 "cells": [
  {
   "cell_type": "code",
   "execution_count": 1,
   "metadata": {},
   "outputs": [
    {
     "name": "stderr",
     "output_type": "stream",
     "text": [
      "/home/fnanni/.cache/pypoetry/virtualenvs/resolution-TnI2DrHj-py3.9/lib/python3.9/site-packages/thefuzz/fuzz.py:11: UserWarning: Using slow pure-python SequenceMatcher. Install python-Levenshtein to remove this warning\n",
      "  warnings.warn('Using slow pure-python SequenceMatcher. Install python-Levenshtein to remove this warning')\n"
     ]
    }
   ],
   "source": [
    "import os\n",
    "import sys\n",
    "\n",
    "sys.path.insert(0, os.path.abspath(os.path.pardir))\n",
    "from geoparser import pipeline, ranking, linking"
   ]
  },
  {
   "cell_type": "code",
   "execution_count": 2,
   "metadata": {},
   "outputs": [],
   "source": [
    "myranker = ranking.Ranker(\n",
    "    method=\"perfectmatch\",\n",
    "    resources_path=\"../resources/wikidata/\",\n",
    "    mentions_to_wikidata=dict(),\n",
    "    wikidata_to_mentions=dict(),\n",
    ")\n"
   ]
  },
  {
   "cell_type": "code",
   "execution_count": 3,
   "metadata": {},
   "outputs": [],
   "source": [
    "mylinker = linking.Linker(\n",
    "    method=\"mostpopular\",\n",
    "    resources_path=\"../resources/wikidata/\",\n",
    "    linking_resources=dict(),\n",
    "    base_model=\"to-be-removed\",  # Base model for vector extraction\n",
    "    rel_params={},\n",
    "    overwrite_training=False,\n",
    ")"
   ]
  },
  {
   "cell_type": "code",
   "execution_count": 4,
   "metadata": {},
   "outputs": [
    {
     "name": "stdout",
     "output_type": "stream",
     "text": [
      "\n",
      "The NER model is already trained!\n",
      "\n",
      "*** Creating and loading a NER pipeline.\n",
      "*** Loading the ranker resources.\n",
      "*** Load linking resources.\n",
      "  > Loading mentions to wikidata mapping.\n",
      "  > Loading gazetteer.\n",
      "*** Linking resources loaded!\n",
      "\n"
     ]
    }
   ],
   "source": [
    "geoparser = pipeline.Pipeline(myranker=myranker, mylinker=mylinker)"
   ]
  },
  {
   "cell_type": "code",
   "execution_count": 5,
   "metadata": {},
   "outputs": [],
   "source": [
    "import pandas as pd\n",
    "import datetime\n",
    "\n",
    "sentence_sample = pd.read_csv('/home/fnanni/randsample0002194.csv')\n",
    "\n",
    "#for the moment for testing\n",
    "sub_sentence_sample = sentence_sample[:100]"
   ]
  },
  {
   "cell_type": "code",
   "execution_count": 8,
   "metadata": {},
   "outputs": [
    {
     "name": "stdout",
     "output_type": "stream",
     "text": [
      "0:00:05.574429\n"
     ]
    }
   ],
   "source": [
    "pd.options.mode.chained_assignment = None  # default='warn'\n",
    "\n",
    "start = datetime.datetime.now()\n",
    "\n",
    "sub_sentence_sample['perfect_mostpopular'] = sub_sentence_sample.apply(lambda row:geoparser.run_sentence(row['sentence']), axis=1)\n",
    "end = datetime.datetime.now()\n",
    "print (end-start)"
   ]
  }
 ],
 "metadata": {
  "kernelspec": {
   "display_name": "toponym_resolution",
   "language": "python",
   "name": "toponym_resolution"
  },
  "language_info": {
   "codemirror_mode": {
    "name": "ipython",
    "version": 3
   },
   "file_extension": ".py",
   "mimetype": "text/x-python",
   "name": "python",
   "nbconvert_exporter": "python",
   "pygments_lexer": "ipython3",
   "version": "3.9.7"
  },
  "orig_nbformat": 4,
  "vscode": {
   "interpreter": {
    "hash": "6d8ee49ef89499b35d53fe5486382f26a7b9295ea66494fc0fba233eb639bbde"
   }
  }
 },
 "nbformat": 4,
 "nbformat_minor": 2
}
