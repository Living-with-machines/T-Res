{
 "cells": [
  {
   "cell_type": "code",
   "execution_count": 1,
   "metadata": {},
   "outputs": [
    {
     "name": "stderr",
     "output_type": "stream",
     "text": [
      "/home/fnanni/.cache/pypoetry/virtualenvs/resolution-TnI2DrHj-py3.9/lib/python3.9/site-packages/thefuzz/fuzz.py:11: UserWarning: Using slow pure-python SequenceMatcher. Install python-Levenshtein to remove this warning\n",
      "  warnings.warn('Using slow pure-python SequenceMatcher. Install python-Levenshtein to remove this warning')\n"
     ]
    }
   ],
   "source": [
    "import os\n",
    "import sys\n",
    "\n",
    "sys.path.insert(0, os.path.abspath(os.path.pardir))\n",
    "from geoparser import pipeline, linking"
   ]
  },
  {
   "cell_type": "code",
   "execution_count": null,
   "metadata": {},
   "outputs": [],
   "source": [
    "mylinker = linking.Linker(\n",
    "    method=\"reldisamb\",\n",
    "    resources_path=\"/resources/wikidata/\",\n",
    "    linking_resources=dict(),\n",
    "    base_model=\"/resources/models/bert/bert_1760_1900/\",  # Base model for vector extraction\n",
    "    rel_params={\n",
    "        \"base_path\": \"/resources/rel_db/\",\n",
    "        \"wiki_version\": \"wiki_2019/\",\n",
    "        \"training_data\": \"lwm\",  # lwm, aida\n",
    "        \"ranking\": \"publ\",\n",
    "        \"micro_locs\": \"dist\" # \"dist\", \"nil\", or \"\"\n",
    "    },\n",
    "    overwrite_training=False,\n",
    ")\n",
    "\n",
    "geoparser = pipeline.Pipeline(mylinker=mylinker)"
   ]
  },
  {
   "cell_type": "code",
   "execution_count": null,
   "metadata": {},
   "outputs": [],
   "source": [
    "resolved = geoparser.run_text(\"A remarkable case of rattening has just occurred in the building trade at Shefrield, but also in Lancaster. Not in Nottingham though. Not in Ashton either, nor in Salop!\",\n",
    "    place_wqid=\"Q18125\")\n",
    "    \n",
    "for r in resolved:\n",
    "    print(r)"
   ]
  },
  {
   "cell_type": "code",
   "execution_count": null,
   "metadata": {},
   "outputs": [],
   "source": [
    "resolved = geoparser.run_sentence(\"A remarkable case of rattening has just occurred in the building trade at Sheffield.\", place_wqid=\"Q18125\")\n",
    "for r in resolved:\n",
    "    print(r)"
   ]
  },
  {
   "cell_type": "code",
   "execution_count": null,
   "metadata": {},
   "outputs": [],
   "source": []
  }
 ],
 "metadata": {
  "kernelspec": {
   "display_name": "toponym_resolution",
   "language": "python",
   "name": "toponym_resolution"
  },
  "orig_nbformat": 4,
  "vscode": {
   "interpreter": {
    "hash": "6d8ee49ef89499b35d53fe5486382f26a7b9295ea66494fc0fba233eb639bbde"
   }
  }
 },
 "nbformat": 4,
 "nbformat_minor": 2
}
