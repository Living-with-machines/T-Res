{
 "cells": [
  {
   "cell_type": "code",
   "execution_count": null,
   "metadata": {},
   "outputs": [],
   "source": [
    "%load_ext autoreload\n",
    "%autoreload 2"
   ]
  },
  {
   "cell_type": "code",
   "execution_count": null,
   "metadata": {},
   "outputs": [],
   "source": [
    "import os\n",
    "import sys\n",
    "\n",
    "sys.path.insert(0, os.path.abspath(os.path.pardir))\n",
    "from geoparser import pipeline, linking"
   ]
  },
  {
   "cell_type": "code",
   "execution_count": null,
   "metadata": {},
   "outputs": [],
   "source": [
    "mylinker = linking.Linker(\n",
    "    method=\"reldisamb\",\n",
    "    resources_path=\"/resources/wikidata/\",\n",
    "    linking_resources=dict(),\n",
    "    base_model=\"/resources/models/bert/bert_1760_1900/\",  # Base model for vector extraction\n",
    "    rel_params={\n",
    "        \"base_path\": \"/resources/rel_db/\",\n",
    "        \"wiki_version\": \"wiki_2019/\",\n",
    "        \"training_data\": \"lwm\",  # lwm, aida\n",
    "        \"ranking\": \"publ\",\n",
    "        \"micro_locs\": \"nil\" # \"dist\", \"nil\", or \"\"\n",
    "    },\n",
    "    overwrite_training=False,\n",
    ")\n",
    "\n",
    "geoparser = pipeline.Pipeline(mylinker=mylinker)"
   ]
  },
  {
   "cell_type": "code",
   "execution_count": null,
   "metadata": {},
   "outputs": [],
   "source": [
    "resolved = geoparser.run_text(\"A remarkable case of rattening has just occurred in the building trade at Sheffield, but also in Lancaster. Not in Nottingham though. Not in Ashton either, in Piccadilly. It's in Salop.\",\n",
    "                              place=\"Manchester\", \n",
    "                              place_wqid=\"Q18125\")\n",
    "for r in resolved:\n",
    "    print(r)"
   ]
  },
  {
   "cell_type": "code",
   "execution_count": null,
   "metadata": {},
   "outputs": [],
   "source": [
    "resolved = geoparser.run_sentence(\"Harvey, from London;Thomas and Elizabeth, Barnett.\", place=\"Manchester\", place_wqid=\"Q18125\")\n",
    "for r in resolved:\n",
    "    print(r)"
   ]
  },
  {
   "cell_type": "code",
   "execution_count": null,
   "metadata": {},
   "outputs": [],
   "source": []
  }
 ],
 "metadata": {
  "kernelspec": {
   "display_name": "Python 3.9.12 ('resolution-BvAPusCz-py3.9')",
   "language": "python",
   "name": "python3"
  },
  "language_info": {
   "codemirror_mode": {
    "name": "ipython",
    "version": 3
   },
   "file_extension": ".py",
   "mimetype": "text/x-python",
   "name": "python",
   "nbconvert_exporter": "python",
   "pygments_lexer": "ipython3",
   "version": "3.9.12"
  },
  "orig_nbformat": 4,
  "vscode": {
   "interpreter": {
    "hash": "14361a11791216c2384545be3cc08f79d6f2d93dd506ebdf617eb9d26df50213"
   }
  }
 },
 "nbformat": 4,
 "nbformat_minor": 2
}
