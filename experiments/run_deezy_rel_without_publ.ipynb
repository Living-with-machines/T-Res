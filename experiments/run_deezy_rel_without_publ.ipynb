{
 "cells": [
  {
   "cell_type": "code",
   "execution_count": 1,
   "metadata": {},
   "outputs": [
    {
     "name": "stderr",
     "output_type": "stream",
     "text": [
      "/home/fnanni/.cache/pypoetry/virtualenvs/resolution-TnI2DrHj-py3.9/lib/python3.9/site-packages/thefuzz/fuzz.py:11: UserWarning: Using slow pure-python SequenceMatcher. Install python-Levenshtein to remove this warning\n",
      "  warnings.warn('Using slow pure-python SequenceMatcher. Install python-Levenshtein to remove this warning')\n"
     ]
    }
   ],
   "source": [
    "import os\n",
    "import sys\n",
    "from pathlib import Path\n",
    "sys.path.insert(0, os.path.abspath(os.path.pardir))\n",
    "from geoparser import pipeline, ranking, linking"
   ]
  },
  {
   "cell_type": "code",
   "execution_count": 2,
   "metadata": {},
   "outputs": [],
   "source": [
    "myranker = ranking.Ranker(\n",
    "    method=\"deezymatch\",\n",
    "    resources_path=\"../resources/wikidata/\",\n",
    "    mentions_to_wikidata=dict(),\n",
    "    wikidata_to_mentions=dict(),\n",
    "    wiki_filtering={\n",
    "        \"top_mentions\": 3,  # Filter mentions to top N mentions\n",
    "        \"minimum_relv\": 0.03,  # Filter mentions with more than X relv\n",
    "    },\n",
    "    strvar_parameters={\n",
    "        # Parameters to create the string pair dataset:\n",
    "        \"ocr_threshold\": 60,\n",
    "        \"top_threshold\": 85,\n",
    "        \"min_len\": 5,\n",
    "        \"max_len\": 15,\n",
    "    },\n",
    "    deezy_parameters={\n",
    "        # Paths and filenames of DeezyMatch models and data:\n",
    "        \"dm_path\": str(Path(\"outputs/deezymatch/\").resolve()),\n",
    "        \"dm_cands\": \"wkdtalts\",\n",
    "        \"dm_model\": \"w2v_ocr\",\n",
    "        \"dm_output\": \"deezymatch_on_the_fly\",\n",
    "        # Ranking measures:\n",
    "        \"ranking_metric\": \"faiss\",\n",
    "        \"selection_threshold\": 25,\n",
    "        \"num_candidates\": 3,\n",
    "        \"search_size\": 3,\n",
    "        \"verbose\": False,\n",
    "        # DeezyMatch training:\n",
    "        \"overwrite_training\": False,\n",
    "        \"w2v_ocr_path\": str(Path(\"outputs/models/\").resolve()),\n",
    "        \"w2v_ocr_model\": \"w2v_*_news\",\n",
    "        \"do_test\": False,\n",
    "    },\n",
    ")\n"
   ]
  },
  {
   "cell_type": "code",
   "execution_count": 3,
   "metadata": {},
   "outputs": [],
   "source": [
    "mylinker = linking.Linker(\n",
    "        method='reldisamb',\n",
    "        resources_path=\"../resources/wikidata/\",\n",
    "        linking_resources=dict(),\n",
    "        base_model=\"to-be-removed\",  # Base model for vector extraction\n",
    "        rel_params={\n",
    "            \"base_path\": \"../resources/rel_db/\",\n",
    "            \"wiki_version\": \"wiki_2019/\",\n",
    "            \"training_data\": \"lwm\",  # lwm, aida\n",
    "            \"ranking\": 'relv',  # relv, publ\n",
    "            \"micro_locs\": 'nil',  # \"dist\", \"nil\", \"\"\n",
    "        },\n",
    "        overwrite_training=False,\n",
    "    )"
   ]
  },
  {
   "cell_type": "code",
   "execution_count": 4,
   "metadata": {},
   "outputs": [
    {
     "name": "stdout",
     "output_type": "stream",
     "text": [
      "\n",
      "The NER model is already trained!\n",
      "\n",
      "*** Creating and loading a NER pipeline.\n",
      "*** Loading the ranker resources.\n",
      "The DeezyMatch model is already trained!\n",
      "*** Load linking resources.\n",
      "  > Loading mentions to wikidata mapping.\n",
      "  > Loading gazetteer.\n",
      "*** Linking resources loaded!\n",
      "\n",
      "Model path: ../resources/rel_db/wiki_2019/generated/lwm_deezymatch+3+25_reldisamb+relv_originalsplit/model\n",
      "Loading model from given path: ../resources/rel_db/wiki_2019/generated/lwm_deezymatch+3+25_reldisamb+relv_originalsplit/model\n"
     ]
    }
   ],
   "source": [
    "geoparser = pipeline.Pipeline(myranker=myranker, mylinker=mylinker)"
   ]
  },
  {
   "cell_type": "code",
   "execution_count": 5,
   "metadata": {},
   "outputs": [
    {
     "name": "stderr",
     "output_type": "stream",
     "text": [
      "                                                 \r"
     ]
    },
    {
     "data": {
      "application/vnd.jupyter.widget-view+json": {
       "model_id": "58aaba0f02e443b1aad4a5ba246bd7f3",
       "version_major": 2,
       "version_minor": 0
      },
      "text/plain": [
       "  0%|          | 0/1 [00:00<?, ?it/s]"
      ]
     },
     "metadata": {},
     "output_type": "display_data"
    },
    {
     "name": "stdout",
     "output_type": "stream",
     "text": [
      "{'mention': 'Shefrield', 'pos': 74, 'sent_idx': 0, 'end_pos': 83, 'tag': 'LOC', 'sentence': 'A remarkable case of rattening has just occurred in the building trade at Shefrield, but also in Lancaster.', 'prediction': 'Q42448', 'ed_score': 0.034, 'latlon': [53.3825, -1.471944], 'wkdt_class': 'Q515'}\n",
      "{'mention': 'Lancaster', 'pos': 97, 'sent_idx': 0, 'end_pos': 106, 'tag': 'LOC', 'sentence': 'A remarkable case of rattening has just occurred in the building trade at Shefrield, but also in Lancaster.', 'prediction': 'Q205905', 'ed_score': 0.041, 'latlon': [54.047, -2.801], 'wkdt_class': 'Q515'}\n",
      "{'mention': 'Nottingham', 'pos': 7, 'sent_idx': 1, 'end_pos': 17, 'tag': 'LOC', 'sentence': 'Not in Nottingham though.', 'prediction': 'Q41262', 'ed_score': 0.062, 'latlon': [52.955, -1.149167], 'wkdt_class': 'Q515'}\n",
      "{'mention': 'Ashton', 'pos': 7, 'sent_idx': 2, 'end_pos': 13, 'tag': 'LOC', 'sentence': 'Not in Ashton either, nor in Salop!', 'prediction': 'Q659803', 'ed_score': 0.095, 'latlon': [53.4941, -2.1032], 'wkdt_class': 'Q3957'}\n",
      "{'mention': 'Salop', 'pos': 29, 'sent_idx': 2, 'end_pos': 34, 'tag': 'LOC', 'sentence': 'Not in Ashton either, nor in Salop!', 'prediction': 'Q23103', 'ed_score': 0.038, 'latlon': [52.616667, -2.716667], 'wkdt_class': 'Q180673'}\n"
     ]
    }
   ],
   "source": [
    "resolved = geoparser.run_text(\"A remarkable case of rattening has just occurred in the building trade at Shefrield, but also in Lancaster. Not in Nottingham though. Not in Ashton either, nor in Salop!\",\n",
    "    place_wqid=\"Q18125\")\n",
    "    \n",
    "for r in resolved:\n",
    "    print(r)"
   ]
  },
  {
   "cell_type": "code",
   "execution_count": 6,
   "metadata": {},
   "outputs": [
    {
     "name": "stdout",
     "output_type": "stream",
     "text": [
      "{'mention': 'Sheffield', 'pos': 74, 'sent_idx': 0, 'end_pos': 83, 'tag': 'LOC', 'sentence': 'A remarkable case of rattening has just occurred in the building trade at Sheffield.', 'prediction': 'Q42448', 'ed_score': 0.078, 'latlon': [53.3825, -1.471944], 'wkdt_class': 'Q515'}\n"
     ]
    }
   ],
   "source": [
    "resolved = geoparser.run_sentence(\"A remarkable case of rattening has just occurred in the building trade at Sheffield.\", place_wqid=\"Q18125\")\n",
    "for r in resolved:\n",
    "    print(r)"
   ]
  }
 ],
 "metadata": {
  "kernelspec": {
   "display_name": "toponym_resolution",
   "language": "python",
   "name": "toponym_resolution"
  },
  "language_info": {
   "codemirror_mode": {
    "name": "ipython",
    "version": 3
   },
   "file_extension": ".py",
   "mimetype": "text/x-python",
   "name": "python",
   "nbconvert_exporter": "python",
   "pygments_lexer": "ipython3",
   "version": "3.9.7"
  },
  "orig_nbformat": 4,
  "vscode": {
   "interpreter": {
    "hash": "6d8ee49ef89499b35d53fe5486382f26a7b9295ea66494fc0fba233eb639bbde"
   }
  }
 },
 "nbformat": 4,
 "nbformat_minor": 2
}
