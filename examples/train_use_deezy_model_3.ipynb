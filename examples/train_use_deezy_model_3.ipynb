{
 "cells": [
  {
   "attachments": {},
   "cell_type": "markdown",
   "metadata": {},
   "source": [
    "# Using an existing DeezyMatch model (option 3)\n",
    "\n",
    "This notebook shows how to use an existing DeezyMatch model.\n",
    "\n",
    "To do so, the `resources/` folder should **(at least)** contain the following folders, in the following locations:\n",
    "```\n",
    "toponym-resolution/\n",
    "   ├── ...\n",
    "   ├── resources/\n",
    "   │   ├── deezymatch/\n",
    "   │   │   └── models/\n",
    "   │   │       └── w2v_ocr/\n",
    "   │   │           ├── input_dfm.yaml\n",
    "   │   │           ├── w2v_ocr.model\n",
    "   │   │           ├── w2v_ocr.model_state_dict\n",
    "   │   │           └── w2v_ocr.vocab\n",
    "   │   ├── models/\n",
    "   │   ├── news_datasets/\n",
    "   │   ├── wikidata/\n",
    "   │   │   └── mentions_to_wikidata.json\n",
    "   │   └── wikipedia/\n",
    "   └── ...\n",
    "```\n",
    "**Note** that we will need to generate the candidate vectors from the `mentions_to_wikidata.json` file, so it may take some minutes to run this the first time."
   ]
  },
  {
   "attachments": {},
   "cell_type": "markdown",
   "metadata": {},
   "source": [
    "We start by importing some libraries, and the `ranking` script from the `geoparser` folder:"
   ]
  },
  {
   "cell_type": "code",
   "execution_count": null,
   "metadata": {},
   "outputs": [],
   "source": [
    "import os\n",
    "import sys\n",
    "from pathlib import Path\n",
    "\n",
    "sys.path.insert(0, os.path.abspath(os.path.pardir))\n",
    "from geoparser import ranking"
   ]
  },
  {
   "attachments": {},
   "cell_type": "markdown",
   "metadata": {},
   "source": [
    "Create a `myranker` object of the `Ranker` class."
   ]
  },
  {
   "cell_type": "code",
   "execution_count": null,
   "metadata": {},
   "outputs": [],
   "source": [
    "myranker = ranking.Ranker(\n",
    "    method=\"deezymatch\", # Here we're telling the ranker to use DeezyMatch.\n",
    "    resources_path=\"../resources/wikidata/\", # Here, the path to the Wikidata resources.\n",
    "    mentions_to_wikidata=dict(), # We'll load the mentions-to-wikidata model here, leave it empty.\n",
    "    wikidata_to_mentions=dict(), # We'll load the wikidata-to-mentions model here, leave it empty.\n",
    "    # Parameters to create the string pair dataset:\n",
    "    strvar_parameters={\n",
    "        \"overwrite_dataset\": False,\n",
    "    },\n",
    "    # Parameters to train, load and use a DeezyMatch model:\n",
    "    deezy_parameters={\n",
    "        # Paths and filenames of DeezyMatch models and data:\n",
    "        \"dm_path\": str(Path(\"../resources/deezymatch/\").resolve()), # Path to the DeezyMatch directory where the model is saved.\n",
    "        \"dm_cands\": \"wkdtalts\", # Name we'll give to the folder that will contain the wikidata candidate vectors.\n",
    "        \"dm_model\": \"w2v_ocr\", # Name of the DeezyMatch model.\n",
    "        \"dm_output\": \"deezymatch_on_the_fly\", # Name of the file where the output of DeezyMatch will be stored. Feel free to change that.\n",
    "        # Ranking measures:\n",
    "        \"ranking_metric\": \"faiss\", # Metric used by DeezyMatch to rank the candidates.\n",
    "        \"selection_threshold\": 25, # Threshold for that metric.\n",
    "        \"num_candidates\": 3, # Number of name variations for a string (e.g. \"London\", \"Londra\", and \"Londres\" are three different variations in our gazetteer of \"Londcn\").\n",
    "        \"search_size\": 3, # That should be the same as `num_candidates`.\n",
    "        \"verbose\": False, # Whether to see the DeezyMatch progress or not.\n",
    "        # DeezyMatch training:\n",
    "        \"overwrite_training\": False, # You can choose to overwrite the model if it exists: in this case we're loading an existing model, so that should be False.\n",
    "        \"do_test\": False, # Whether the DeezyMatch model we're loading was a test, or not.\n",
    "    },\n",
    ")"
   ]
  },
  {
   "attachments": {},
   "cell_type": "markdown",
   "metadata": {},
   "source": [
    "Load the resources (i.e. the `mentions-to-wikidata` and `wikidata-to-mentions` mappers) that will be used by the ranker:"
   ]
  },
  {
   "cell_type": "code",
   "execution_count": null,
   "metadata": {},
   "outputs": [],
   "source": [
    "# Load the resources:\n",
    "myranker.mentions_to_wikidata = myranker.load_resources()"
   ]
  },
  {
   "attachments": {},
   "cell_type": "markdown",
   "metadata": {},
   "source": [
    "Given the DeezyMatch model that has been loaded, find candidates on Wikidata:"
   ]
  },
  {
   "cell_type": "code",
   "execution_count": null,
   "metadata": {},
   "outputs": [],
   "source": [
    "# Find candidates given a toponym:\n",
    "toponym = \"Ashton-cnderLyne\"\n",
    "print(myranker.find_candidates([{\"mention\": toponym}])[0][toponym])"
   ]
  },
  {
   "cell_type": "code",
   "execution_count": null,
   "metadata": {},
   "outputs": [],
   "source": [
    "# Find candidates given a toponym:\n",
    "toponym = \"Sheftield\"\n",
    "print(myranker.find_candidates([{\"mention\": toponym}])[0][toponym])"
   ]
  },
  {
   "cell_type": "code",
   "execution_count": null,
   "metadata": {},
   "outputs": [],
   "source": []
  }
 ],
 "metadata": {
  "kernelspec": {
   "display_name": "resolution-cNmUJBkC-py3.9",
   "language": "python",
   "name": "python3"
  },
  "language_info": {
   "codemirror_mode": {
    "name": "ipython",
    "version": 3
   },
   "file_extension": ".py",
   "mimetype": "text/x-python",
   "name": "python",
   "nbconvert_exporter": "python",
   "pygments_lexer": "ipython3",
   "version": "3.9.7"
  },
  "orig_nbformat": 4
 },
 "nbformat": 4,
 "nbformat_minor": 2
}
