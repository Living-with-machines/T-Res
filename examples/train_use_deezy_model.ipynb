{
 "cells": [
  {
   "attachments": {},
   "cell_type": "markdown",
   "metadata": {},
   "source": [
    "# Training and using a DeezyMatch model\n",
    "\n",
    "This notebook shows how to train a new DeezyMatch model.\n",
    "\n",
    "We start by importing some libraries, and the `ranking` script from the `geoparser` folder:"
   ]
  },
  {
   "cell_type": "code",
   "execution_count": null,
   "metadata": {},
   "outputs": [],
   "source": [
    "import os\n",
    "import sys\n",
    "from pathlib import Path\n",
    "\n",
    "sys.path.insert(0, os.path.abspath(os.path.pardir))\n",
    "from geoparser import pipeline, ranking"
   ]
  },
  {
   "attachments": {},
   "cell_type": "markdown",
   "metadata": {},
   "source": [
    "### Option 1: Load and use an existing DeezyMatch model\n",
    "\n",
    "Create a `myranker` object of the `Ranker` class."
   ]
  },
  {
   "cell_type": "code",
   "execution_count": null,
   "metadata": {},
   "outputs": [],
   "source": [
    "myranker = ranking.Ranker(\n",
    "    method=\"deezymatch\", # Here we're telling the ranker to use DeezyMatch.\n",
    "    resources_path=\"../resources/wikidata/\", # Here, the path to the Wikidata resources.\n",
    "    mentions_to_wikidata=dict(), # We'll store the mentions-to-wikidata model here, leave it like this.\n",
    "    wikidata_to_mentions=dict(), # We'll store the wikidata-to-mentions model here, leave it like this.\n",
    "    strvar_parameters=dict(), # Parameters to create the string pair dataset (it can be left empty because it's not used if the model already exists).\n",
    "    deezy_parameters={\n",
    "        # Paths and filenames of DeezyMatch models and data:\n",
    "        \"dm_path\": str(Path(\"../resources/deezymatch/\").resolve()), # Path to the DeezyMatch directory where the model is saved.\n",
    "        \"dm_cands\": \"wkdtalts\", # Name of the folder containing the wikidata candidates.\n",
    "        \"dm_model\": \"w2v_ocr\", # Name of the DeezyMatch model.\n",
    "        \"dm_output\": \"deezymatch_on_the_fly\", # Name of the file where the output of DeezyMatch will be stored. Feel free to change that.\n",
    "        # Ranking measures:\n",
    "        \"ranking_metric\": \"faiss\", # Metric used by DeezyMatch to rank the candidates.\n",
    "        \"selection_threshold\": 25, # Threshold for that metric.\n",
    "        \"num_candidates\": 3, # Number of name variations for a string (e.g. \"London\", \"Londra\", and \"Londres\" are three different variations in our gazetteer of \"Londcn\").\n",
    "        \"search_size\": 3, # That should be the same as `num_candidates`.\n",
    "        \"verbose\": False, # Whether to see the DeezyMatch progress or not.\n",
    "        # DeezyMatch training:\n",
    "        \"overwrite_training\": False, # You can choose to overwrite the model if it exists: in this case we're loading an existing model, so that should be False.\n",
    "        \"w2v_ocr_path\": \"\", # Path to the w2v model used to generate the DeezyMatch pairs training set. Can be empty if the DeezyMatch model already exists.\n",
    "        \"w2v_ocr_model\": \"\", # Name of the w2v model used to generate the DeezyMatch pairs training set. Can be empty if the DeezyMatch model already exists.\n",
    "        \"do_test\": False, # Whether the DeezyMatch model we're loading was a test, or not.\n",
    "    },\n",
    ")"
   ]
  },
  {
   "attachments": {},
   "cell_type": "markdown",
   "metadata": {},
   "source": [
    "Load the resources (i.e. the `mentions-to-wikidata` and `wikidata-to-mentions` mappers) that will be used by the ranker:"
   ]
  },
  {
   "cell_type": "code",
   "execution_count": null,
   "metadata": {},
   "outputs": [],
   "source": [
    "# Load the resources:\n",
    "myranker.mentions_to_wikidata = myranker.load_resources()"
   ]
  },
  {
   "attachments": {},
   "cell_type": "markdown",
   "metadata": {},
   "source": [
    "Train a DeezyMatch model (notice we will be training a `test` model):"
   ]
  },
  {
   "cell_type": "code",
   "execution_count": null,
   "metadata": {},
   "outputs": [],
   "source": [
    "# Train a DeezyMatch model if needed:\n",
    "myranker.train()"
   ]
  },
  {
   "attachments": {},
   "cell_type": "markdown",
   "metadata": {},
   "source": [
    "Given the DeezyMatch model that has been loaded, find candidates on Wikidata:"
   ]
  },
  {
   "cell_type": "code",
   "execution_count": null,
   "metadata": {},
   "outputs": [],
   "source": [
    "# Find candidates given a toponym:\n",
    "toponym = \"Manchefter\"\n",
    "print(myranker.find_candidates([{\"mention\": toponym}])[0][toponym])"
   ]
  },
  {
   "attachments": {},
   "cell_type": "markdown",
   "metadata": {},
   "source": [
    "### Option 2: Train a new DeezyMatch model, and use it.\n",
    "\n",
    "Create a `myranker` object of the `Ranker` class."
   ]
  },
  {
   "cell_type": "code",
   "execution_count": null,
   "metadata": {},
   "outputs": [],
   "source": [
    "myranker = ranking.Ranker(\n",
    "    method=\"deezymatch\", # Here we're telling the ranker to use DeezyMatch.\n",
    "    resources_path=\"../resources/wikidata/\", # Here, the path to the Wikidata resources.\n",
    "    mentions_to_wikidata=dict(), # We'll store the mentions-to-wikidata model here, leave it like this.\n",
    "    wikidata_to_mentions=dict(), # We'll store the wikidata-to-mentions model here, leave it like this.\n",
    "    strvar_parameters={\n",
    "        # Parameters to create the string pair dataset:\n",
    "        \"ocr_threshold\": 60,\n",
    "        \"top_threshold\": 85,\n",
    "        \"min_len\": 5,\n",
    "        \"max_len\": 15,\n",
    "    },\n",
    "    deezy_parameters={\n",
    "        # Paths and filenames of DeezyMatch models and data:\n",
    "        \"dm_path\": str(Path(\"../resources/deezymatch/\").resolve()),\n",
    "        \"dm_cands\": \"wkdtalts\",\n",
    "        \"dm_model\": \"w2v_ocr\",\n",
    "        \"dm_output\": \"deezymatch_on_the_fly\",\n",
    "        # Ranking measures:\n",
    "        \"ranking_metric\": \"faiss\",\n",
    "        \"selection_threshold\": 25,\n",
    "        \"num_candidates\": 3,\n",
    "        \"search_size\": 3,\n",
    "        \"verbose\": False,\n",
    "        # DeezyMatch training:\n",
    "        \"overwrite_training\": True,\n",
    "        \"w2v_ocr_path\": str(Path(\"../resources/models/w2v/\").resolve()),\n",
    "        \"w2v_ocr_model\": \"w2v_*_news\",\n",
    "        \"do_test\": True,\n",
    "    },\n",
    ")"
   ]
  },
  {
   "cell_type": "markdown",
   "metadata": {},
   "source": [
    "Load the resources (i.e. the `mentions-to-wikidata` and `wikidata-to-mentions` mappers) that will be used by the ranker:"
   ]
  },
  {
   "cell_type": "code",
   "execution_count": null,
   "metadata": {},
   "outputs": [],
   "source": [
    "# Load the resources:\n",
    "myranker.mentions_to_wikidata = myranker.load_resources()"
   ]
  },
  {
   "cell_type": "markdown",
   "metadata": {},
   "source": [
    "Train a DeezyMatch model (notice we will be training a `test` model):"
   ]
  },
  {
   "cell_type": "code",
   "execution_count": null,
   "metadata": {},
   "outputs": [],
   "source": [
    "# Train a DeezyMatch model if needed:\n",
    "myranker.train()"
   ]
  },
  {
   "cell_type": "markdown",
   "metadata": {},
   "source": [
    "Given the DeezyMatch model that has been loaded, find candidates on Wikidata:"
   ]
  },
  {
   "cell_type": "code",
   "execution_count": null,
   "metadata": {},
   "outputs": [],
   "source": [
    "# Find candidates given a toponym:\n",
    "toponym = \"Manchefter\"\n",
    "print(myranker.find_candidates([{\"mention\": toponym}])[0][toponym])\n"
   ]
  }
 ],
 "metadata": {
  "kernelspec": {
   "display_name": "resolution-cNmUJBkC-py3.9",
   "language": "python",
   "name": "python3"
  },
  "language_info": {
   "codemirror_mode": {
    "name": "ipython",
    "version": 3
   },
   "file_extension": ".py",
   "mimetype": "text/x-python",
   "name": "python",
   "nbconvert_exporter": "python",
   "pygments_lexer": "ipython3",
   "version": "3.9.7"
  },
  "orig_nbformat": 4
 },
 "nbformat": 4,
 "nbformat_minor": 2
}
