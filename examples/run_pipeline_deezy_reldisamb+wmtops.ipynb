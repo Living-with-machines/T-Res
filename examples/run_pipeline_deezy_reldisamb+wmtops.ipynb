{
 "cells": [
  {
   "attachments": {},
   "cell_type": "markdown",
   "metadata": {},
   "source": [
    "# T-RES using DeezyMatch with REL disambiguation\n",
    "\n",
    "REL disambiguation **filtering out microtoponyms** and without adding place of publication."
   ]
  },
  {
   "cell_type": "code",
   "execution_count": null,
   "metadata": {},
   "outputs": [],
   "source": [
    "import os\n",
    "import sys\n",
    "import sqlite3\n",
    "from pathlib import Path\n",
    "\n",
    "from t_res.geoparser import pipeline, ranking, linking"
   ]
  },
  {
   "cell_type": "code",
   "execution_count": null,
   "metadata": {},
   "outputs": [],
   "source": [
    "# --------------------------------------\n",
    "# Instantiate the ranker:\n",
    "myranker = ranking.Ranker(\n",
    "    method=\"deezymatch\",\n",
    "    resources_path=\"../resources/wikidata/\",\n",
    "    strvar_parameters=dict(),\n",
    "    deezy_parameters={\n",
    "        # Paths and filenames of DeezyMatch models and data:\n",
    "        \"dm_path\": str(Path(\"../resources/deezymatch/\").resolve()),\n",
    "        \"dm_cands\": \"wkdtalts\",\n",
    "        \"dm_model\": \"w2v_ocr\",\n",
    "        \"dm_output\": \"deezymatch_on_the_fly\",\n",
    "        # Ranking measures:\n",
    "        \"ranking_metric\": \"faiss\",\n",
    "        \"selection_threshold\": 50,\n",
    "        \"num_candidates\": 1,\n",
    "        \"verbose\": False,\n",
    "        # DeezyMatch training:\n",
    "        \"overwrite_training\": False,\n",
    "        \"do_test\": False,\n",
    "    },\n",
    ")"
   ]
  },
  {
   "cell_type": "code",
   "execution_count": null,
   "metadata": {},
   "outputs": [],
   "source": [
    "with sqlite3.connect(\"../resources/rel_db/embeddings_database.db\") as conn:\n",
    "    cursor = conn.cursor()\n",
    "    mylinker = linking.Linker(\n",
    "        method=\"reldisamb\",\n",
    "        resources_path=\"../resources/\",\n",
    "        rel_params={\n",
    "            \"model_path\": \"../resources/models/disambiguation/\",\n",
    "            \"data_path\": \"../experiments/outputs/data/lwm/\",\n",
    "            \"training_split\": \"originalsplit\",\n",
    "            \"db_embeddings\": cursor,\n",
    "            \"with_publication\": False,\n",
    "            \"without_microtoponyms\": True,\n",
    "            \"do_test\": False,\n",
    "            \"default_publname\": \"\",\n",
    "            \"default_publwqid\": \"\",\n",
    "        },\n",
    "        overwrite_training=False,\n",
    "    )"
   ]
  },
  {
   "cell_type": "code",
   "execution_count": null,
   "metadata": {},
   "outputs": [],
   "source": [
    "geoparser = pipeline.Pipeline(myranker=myranker, mylinker=mylinker)"
   ]
  },
  {
   "cell_type": "code",
   "execution_count": null,
   "metadata": {},
   "outputs": [],
   "source": [
    "resolved = geoparser.run_text(\"A remarkable case of rattening has just occurred in the building trade next to the Market-street of Shefrield, but also in Lancaster. Not in Nottingham though. Not in Ashton either, nor in Salop!\")\n",
    "    \n",
    "for r in resolved:\n",
    "    print(r)"
   ]
  },
  {
   "cell_type": "code",
   "execution_count": null,
   "metadata": {},
   "outputs": [],
   "source": [
    "resolved = geoparser.run_sentence(\"A remarkable case of rattening has just occurred in the building trade at Sheffield.\")\n",
    "for r in resolved:\n",
    "    print(r)"
   ]
  }
 ],
 "metadata": {
  "kernelspec": {
   "display_name": "resolution-cNmUJBkC-py3.9",
   "language": "python",
   "name": "python3"
  },
  "language_info": {
   "codemirror_mode": {
    "name": "ipython",
    "version": 3
   },
   "file_extension": ".py",
   "mimetype": "text/x-python",
   "name": "python",
   "nbconvert_exporter": "python",
   "pygments_lexer": "ipython3",
   "version": "3.9.7"
  },
  "orig_nbformat": 4
 },
 "nbformat": 4,
 "nbformat_minor": 2
}
