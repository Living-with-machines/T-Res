{
 "cells": [
  {
   "cell_type": "code",
   "execution_count": 1,
   "metadata": {},
   "outputs": [],
   "source": [
    "from collections import Counter\n",
    "import json, urllib, hashlib\n",
    "import pandas as pd"
   ]
  },
  {
   "cell_type": "markdown",
   "metadata": {},
   "source": [
    "### Wikipedia processing resources"
   ]
  },
  {
   "cell_type": "code",
   "execution_count": null,
   "metadata": {},
   "outputs": [],
   "source": [
    "path = '/resources/wikipedia/extractedResources/'\n",
    "\n",
    "with open(path+'overall_entity_freq.json', 'r') as f:\n",
    "    overall_entity_freq = json.load(f)\n",
    "\n",
    "with open(path+'entities_overall_dict.json', 'r') as f:\n",
    "    entities_overall_dict = json.load(f)\n",
    "    entities_overall_dict = {x:Counter(y) for x,y in entities_overall_dict.items()}\n",
    "\n",
    "with open(path+'entity_inlink_dict.json', 'r') as f:\n",
    "    entity_inlink_dict = json.load(f)\n",
    "\n",
    "with open(path+'entity_outlink_dict.json', 'r') as f:\n",
    "    entity_outlink_dict = json.load(f)\n",
    "\n",
    "with open(path+'mention_overall_dict.json', 'r') as f:\n",
    "    mention_overall_dict = json.load(f)\n",
    "    mention_overall_dict = {x:Counter(y) for x,y in mention_overall_dict.items()}\n",
    "\n",
    "with open(path+'overall_mentions_freq.json', 'r') as f:\n",
    "    overall_mentions_freq = json.load(f)\n",
    "\n",
    "with open(path+'wikipedia2wikidata.json', 'r') as f:\n",
    "    wikipedia2wikidata = json.load(f)\n",
    "\n",
    "with open(path+'wikidata2wikipedia.json', 'r') as f:\n",
    "    wikidata2wikipedia = json.load(f)"
   ]
  },
  {
   "cell_type": "code",
   "execution_count": null,
   "metadata": {},
   "outputs": [],
   "source": [
    "## starting point: a wikidata id or a wikipedia title\n",
    "\n",
    "wikidataId = \"Q90\"\n",
    "if wikidataId in wikidata2wikipedia:\n",
    "    percent_encoded_title = wikidata2wikipedia[wikidataId][0][\"title\"]\n",
    "    # in case of multiple wikipedia pages pointing to the same id you need to pick the one with the highest freq\n",
    "    print (wikidata2wikipedia[wikidataId])\n",
    "else:\n",
    "    print (\"Missing entity in our wikidata2wikipedia Mapping\")\n",
    "\n",
    "\n",
    "# otherwise is you already know the page title you can do the following\n",
    "\n",
    "#wikipedia_title = \"Paris\"\n",
    "#percent_encoded_title = urllib.parse.quote(wikipedia_title)\n"
   ]
  },
  {
   "cell_type": "code",
   "execution_count": null,
   "metadata": {},
   "outputs": [],
   "source": [
    "\n",
    "if \"/\" in percent_encoded_title or len(percent_encoded_title)>200:\n",
    "    percent_encoded_title = hashlib.sha224(percent_encoded_title.encode('utf-8')).hexdigest()\n",
    "\n",
    "with open(path+'Pages/'+percent_encoded_title+\".json\", 'r') as f:\n",
    "    page = json.load(f)\n",
    "\n",
    "inlinks = entity_inlink_dict[percent_encoded_title]\n",
    "outlinks = entity_outlink_dict[percent_encoded_title]\n",
    "freq = overall_entity_freq[percent_encoded_title]\n",
    "name_variations = entities_overall_dict[percent_encoded_title]\n",
    "wikidataId = wikipedia2wikidata[percent_encoded_title]\n",
    "\n",
    "#print (\"inlinks:\",inlinks)\n",
    "#print (\"outlinks:\",outlinks)\n",
    "print (\"freq:\",freq)\n",
    "print (\"name_variations:\",name_variations)\n",
    "print (\"wikidataId\",wikidataId)\n",
    "#print (\"Page Content:\")\n",
    "#print (page)"
   ]
  },
  {
   "cell_type": "markdown",
   "metadata": {},
   "source": [
    "### Gazetteer resources"
   ]
  },
  {
   "cell_type": "code",
   "execution_count": 2,
   "metadata": {},
   "outputs": [],
   "source": [
    "wikidata_path = '/resources/wikidata/'\n",
    "\n",
    "df = pd.read_csv(wikidata_path + \"wikidata_gazetteer.csv\", low_memory=False)\n",
    "\n",
    "with open(wikidata_path + 'overall_entity_freq_wikidata.json', 'r') as f:\n",
    "    overall_entity_freq_wikidata = json.load(f)\n",
    "    \n",
    "with open(wikidata_path + 'mentions_to_wikidata_normalized.json', 'r') as f:\n",
    "    mentions_to_wikidata_normalized = json.load(f)\n",
    "    \n",
    "with open(wikidata_path + 'wikidata_to_mentions_normalized.json', 'r') as f:\n",
    "    wikidata_to_mentions_normalized = json.load(f)"
   ]
  },
  {
   "cell_type": "code",
   "execution_count": 3,
   "metadata": {},
   "outputs": [
    {
     "data": {
      "text/html": [
       "<div>\n",
       "<style scoped>\n",
       "    .dataframe tbody tr th:only-of-type {\n",
       "        vertical-align: middle;\n",
       "    }\n",
       "\n",
       "    .dataframe tbody tr th {\n",
       "        vertical-align: top;\n",
       "    }\n",
       "\n",
       "    .dataframe thead th {\n",
       "        text-align: right;\n",
       "    }\n",
       "</style>\n",
       "<table border=\"1\" class=\"dataframe\">\n",
       "  <thead>\n",
       "    <tr style=\"text-align: right;\">\n",
       "      <th></th>\n",
       "      <th>wikidata_id</th>\n",
       "      <th>english_label</th>\n",
       "      <th>instance_of</th>\n",
       "      <th>description_set</th>\n",
       "      <th>alias_dict</th>\n",
       "      <th>nativelabel</th>\n",
       "      <th>population_dict</th>\n",
       "      <th>area</th>\n",
       "      <th>hcounties</th>\n",
       "      <th>date_opening</th>\n",
       "      <th>...</th>\n",
       "      <th>borders</th>\n",
       "      <th>near_water</th>\n",
       "      <th>latitude</th>\n",
       "      <th>longitude</th>\n",
       "      <th>wikititle</th>\n",
       "      <th>geonamesIDs</th>\n",
       "      <th>connectswith</th>\n",
       "      <th>street_address</th>\n",
       "      <th>street_located</th>\n",
       "      <th>postal_code</th>\n",
       "    </tr>\n",
       "  </thead>\n",
       "  <tbody>\n",
       "    <tr>\n",
       "      <th>125956</th>\n",
       "      <td>Q203349</td>\n",
       "      <td>Poole</td>\n",
       "      <td>['Q3957', 'Q1549591', 'Q7897276']</td>\n",
       "      <td>{'town and seaport in the county of Dorset, En...</td>\n",
       "      <td>{'pl': ['Poole'], 'fr': ['Poole'], 'es': ['Poo...</td>\n",
       "      <td>['Poole']</td>\n",
       "      <td>{'2001': '+144800'}</td>\n",
       "      <td>('+64880000', 'square metre')</td>\n",
       "      <td>['Q67479793']</td>\n",
       "      <td>NaN</td>\n",
       "      <td>...</td>\n",
       "      <td>[]</td>\n",
       "      <td>NaN</td>\n",
       "      <td>50.716667</td>\n",
       "      <td>-1.983333</td>\n",
       "      <td>Poole</td>\n",
       "      <td>['2640101']</td>\n",
       "      <td>NaN</td>\n",
       "      <td>NaN</td>\n",
       "      <td>NaN</td>\n",
       "      <td>['BH']</td>\n",
       "    </tr>\n",
       "  </tbody>\n",
       "</table>\n",
       "<p>1 rows × 29 columns</p>\n",
       "</div>"
      ],
      "text/plain": [
       "       wikidata_id english_label                        instance_of  \\\n",
       "125956     Q203349         Poole  ['Q3957', 'Q1549591', 'Q7897276']   \n",
       "\n",
       "                                          description_set  \\\n",
       "125956  {'town and seaport in the county of Dorset, En...   \n",
       "\n",
       "                                               alias_dict nativelabel  \\\n",
       "125956  {'pl': ['Poole'], 'fr': ['Poole'], 'es': ['Poo...   ['Poole']   \n",
       "\n",
       "            population_dict                           area      hcounties  \\\n",
       "125956  {'2001': '+144800'}  ('+64880000', 'square metre')  ['Q67479793']   \n",
       "\n",
       "       date_opening  ... borders near_water   latitude longitude wikititle  \\\n",
       "125956          NaN  ...      []        NaN  50.716667 -1.983333     Poole   \n",
       "\n",
       "        geonamesIDs connectswith street_address street_located postal_code  \n",
       "125956  ['2640101']          NaN            NaN            NaN      ['BH']  \n",
       "\n",
       "[1 rows x 29 columns]"
      ]
     },
     "execution_count": 3,
     "metadata": {},
     "output_type": "execute_result"
    }
   ],
   "source": [
    "df[df[\"wikidata_id\"] == \"Q203349\"]"
   ]
  },
  {
   "cell_type": "code",
   "execution_count": 4,
   "metadata": {},
   "outputs": [
    {
     "data": {
      "text/plain": [
       "965"
      ]
     },
     "execution_count": 4,
     "metadata": {},
     "output_type": "execute_result"
    }
   ],
   "source": [
    "overall_entity_freq_wikidata[\"Q203349\"]"
   ]
  },
  {
   "cell_type": "code",
   "execution_count": 5,
   "metadata": {},
   "outputs": [
    {
     "data": {
      "text/plain": [
       "{'Pool': 0.0010214504596527069,\n",
       " 'Poole': 0.9254341164453525,\n",
       " 'Poole Quay': 0.009193054136874362,\n",
       " 'Poole, Dorset': 0.04596527068437181,\n",
       " 'Poole, England': 0.008171603677221655,\n",
       " 'Borough of Poole': 0.0020429009193054137,\n",
       " 'the south coast': 0.0020429009193054137,\n",
       " 'Poole, Dorsetshire': 0.0020429009193054137,\n",
       " 'Poole, UK': 0.0010214504596527069,\n",
       " 'North Poole': 0.0010214504596527069,\n",
       " 'Poole Dorset': 0.0010214504596527069,\n",
       " 'Poole district council': 0.0010214504596527069}"
      ]
     },
     "execution_count": 5,
     "metadata": {},
     "output_type": "execute_result"
    }
   ],
   "source": [
    "wikidata_to_mentions_normalized[\"Q203349\"]"
   ]
  },
  {
   "cell_type": "code",
   "execution_count": 6,
   "metadata": {},
   "outputs": [
    {
     "data": {
      "text/plain": [
       "{'Q203349': 0.9254341164453525,\n",
       " 'Q7228632': 0.6,\n",
       " 'Q1645369': 0.0213903743315508,\n",
       " 'Q1032459': 0.875912408759124,\n",
       " 'Q6463514': 0.0625,\n",
       " 'Q6980908': 0.03333333333333333,\n",
       " 'Q7228615': 0.07407407407407407,\n",
       " 'Q7228606': 0.8,\n",
       " 'Q6418070': 0.08092485549132948,\n",
       " 'Q6082570': 1.0,\n",
       " 'Q7228605': 0.7142857142857142,\n",
       " 'Q7228626': 0.13793103448275862,\n",
       " 'Q3456617': 1.0}"
      ]
     },
     "execution_count": 6,
     "metadata": {},
     "output_type": "execute_result"
    }
   ],
   "source": [
    "mentions_to_wikidata_normalized[\"Poole\"]"
   ]
  },
  {
   "cell_type": "code",
   "execution_count": null,
   "metadata": {},
   "outputs": [],
   "source": []
  }
 ],
 "metadata": {
  "interpreter": {
   "hash": "c81a5a1980dacfbd83d833a7e56ee30243d7c1ccda80563348485af74244aa8e"
  },
  "kernelspec": {
   "display_name": "Python (py39)",
   "language": "python",
   "name": "py39"
  },
  "language_info": {
   "codemirror_mode": {
    "name": "ipython",
    "version": 3
   },
   "file_extension": ".py",
   "mimetype": "text/x-python",
   "name": "python",
   "nbconvert_exporter": "python",
   "pygments_lexer": "ipython3",
   "version": "3.9.7"
  }
 },
 "nbformat": 4,
 "nbformat_minor": 2
}
