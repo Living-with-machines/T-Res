{
 "cells": [
  {
   "cell_type": "code",
   "execution_count": 1,
   "metadata": {},
   "outputs": [],
   "source": [
    "from collections import Counter\n",
    "import json, urllib, hashlib\n",
    "\n",
    "path = '/resources/wikipedia/extractedResources/'\n",
    "\n",
    "with open(path+'overall_entity_freq.json', 'r') as f:\n",
    "    overall_entity_freq = json.load(f)\n",
    "\n",
    "with open(path+'entities_overall_dict.json', 'r') as f:\n",
    "    entities_overall_dict = json.load(f)\n",
    "    entities_overall_dict = {x:Counter(y) for x,y in entities_overall_dict.items()}\n",
    "\n",
    "with open(path+'entity_inlink_dict.json', 'r') as f:\n",
    "    entity_inlink_dict = json.load(f)\n",
    "\n",
    "with open(path+'entity_outlink_dict.json', 'r') as f:\n",
    "    entity_outlink_dict = json.load(f)\n",
    "\n",
    "with open(path+'mention_overall_dict.json', 'r') as f:\n",
    "    mention_overall_dict = json.load(f)\n",
    "    mention_overall_dict = {x:Counter(y) for x,y in mention_overall_dict.items()}\n",
    "\n",
    "with open(path+'overall_mentions_freq.json', 'r') as f:\n",
    "    overall_mentions_freq = json.load(f)\n",
    "\n",
    "with open(path+'wikipedia2wikidata.json', 'r') as f:\n",
    "    wikipedia2wikidata = json.load(f)\n",
    "\n",
    "with open(path+'wikidata2wikipedia.json', 'r') as f:\n",
    "    wikidata2wikipedia = json.load(f)\n"
   ]
  },
  {
   "cell_type": "code",
   "execution_count": 2,
   "metadata": {},
   "outputs": [
    {
     "name": "stdout",
     "output_type": "stream",
     "text": [
      "[{'title': 'Paris', 'freq': 48569}, {'title': 'Paris%2C%20France', 'freq': 1694}, {'title': 'Paree', 'freq': 1}, {'title': 'Paris%20agglomeration', 'freq': 3}, {'title': 'Par%C3%ADs', 'freq': 21}, {'title': 'Paris%20%28France%29', 'freq': 6}, {'title': 'Paris%2CFrance', 'freq': 2}, {'title': 'Parisian%20%28person%29', 'freq': 4}, {'title': 'Paris%20%28city%29', 'freq': 1}, {'title': 'Paname', 'freq': 2}, {'title': 'Parisien', 'freq': 2}, {'title': 'Paris%20France', 'freq': 3}]\n"
     ]
    }
   ],
   "source": [
    "## starting point: a wikidata id or a wikipedia title\n",
    "\n",
    "wikidataId = \"Q90\"\n",
    "if wikidataId in wikidata2wikipedia:\n",
    "    percent_encoded_title = wikidata2wikipedia[wikidataId][0][\"title\"]\n",
    "    # in case of multiple wikipedia pages pointing to the same id you need to pick the one with the highest freq\n",
    "    print (wikidata2wikipedia[wikidataId])\n",
    "else:\n",
    "    print (\"Missing entity in our wikidata2wikipedia Mapping\")\n",
    "\n",
    "\n",
    "# otherwise is you already know the page title you can do the following\n",
    "\n",
    "#wikipedia_title = \"Paris\"\n",
    "#percent_encoded_title = urllib.parse.quote(wikipedia_title)\n"
   ]
  },
  {
   "cell_type": "code",
   "execution_count": 4,
   "metadata": {},
   "outputs": [
    {
     "name": "stdout",
     "output_type": "stream",
     "text": [
      "freq: 48569\n",
      "name_variations: Counter({'Paris': 48191, 'Paris, France': 201, 'City of Paris': 30, 'Parisian': 24, 'capital': 12, 'French capital': 11, 'Ville de Paris': 9, 'city of Paris': 5, 'París': 4, 'the city': 3, 'the capital': 3, 'Paris, France.': 3, 'French capital city': 3, 'City of Lights': 3, 'capital city': 2, 'Belleville': 2, 'Parisian stage': 2, \"Paris's\": 2, 'City of Light': 2, 'Paris Est': 2, 'Paris.': 2, 'Parisian Excursion': 2, 'in Paris': 2, \"Paris'\": 2, 'Persian': 1, 'the east': 1, 'France': 1, 'Brisbane': 1, 'city': 1, 'metropolitan': 1, 'Lutetia': 1, 'Counts of Paris': 1, ')': 1, 'centre of Paris': 1, 'Paris meridian': 1, \"Musée de l'Air et de l'Espace\": 1, 'the city in France': 1, 'Parisians': 1, 'the capital city': 1, 'Paris by Night': 1, 'France (Paris)': 1, 'Paris Montparnasse': 1, 'Paris Gare de Lyon': 1, 'city administration': 1, 'Paris City Council': 1, 'Paris France': 1, 'the City of Light': 1, 'Parisian police': 1, 'Lutetia (Paris)': 1, 'the French city': 1, 'Paris Austerlitz': 1, 'Paris (France)': 1, 'Villemomble, France': 1, 'Parisian suburbs': 1, 'Parisian Region': 1, 'Paris (15 rue de Laborde, 75008 Paris)': 1, 'Paris - France': 1, 'Goregoan': 1, 'Parisian-style': 1, 'Gay Paree': 1, 'named after the French capital city': 1, 'French City': 1, 'PARIS': 1, 'the capital in France': 1, 'Scaris': 1, 'The French capital': 1, 'Neu-Paris': 1, 'southern Paris': 1, \"rue de l'École de Médecine\": 1, 'Paris Graduate School of Management': 1, 'Paris,\\xa0France': 1})\n",
      "wikidataId Q90\n"
     ]
    }
   ],
   "source": [
    "\n",
    "if \"/\" in percent_encoded_title or len(percent_encoded_title)>200:\n",
    "    percent_encoded_title = hashlib.sha224(percent_encoded_title.encode('utf-8')).hexdigest()\n",
    "\n",
    "with open(path+'Pages/'+percent_encoded_title+\".json\", 'r') as f:\n",
    "    page = json.load(f)\n",
    "\n",
    "inlinks = entity_inlink_dict[percent_encoded_title]\n",
    "outlinks = entity_outlink_dict[percent_encoded_title]\n",
    "freq = overall_entity_freq[percent_encoded_title]\n",
    "name_variations = entities_overall_dict[percent_encoded_title]\n",
    "wikidataId = wikipedia2wikidata[percent_encoded_title]\n",
    "\n",
    "#print (\"inlinks:\",inlinks)\n",
    "#print (\"outlinks:\",outlinks)\n",
    "print (\"freq:\",freq)\n",
    "print (\"name_variations:\",name_variations)\n",
    "print (\"wikidataId\",wikidataId)\n",
    "#print (\"Page Content:\")\n",
    "#print (page)"
   ]
  }
 ],
 "metadata": {
  "interpreter": {
   "hash": "c81a5a1980dacfbd83d833a7e56ee30243d7c1ccda80563348485af74244aa8e"
  },
  "kernelspec": {
   "display_name": "Python 3.9.7 64-bit ('py39resolution': conda)",
   "language": "python",
   "name": "python3"
  },
  "language_info": {
   "codemirror_mode": {
    "name": "ipython",
    "version": 3
   },
   "file_extension": ".py",
   "mimetype": "text/x-python",
   "name": "python",
   "nbconvert_exporter": "python",
   "pygments_lexer": "ipython3",
   "version": "3.9.7"
  },
  "orig_nbformat": 4
 },
 "nbformat": 4,
 "nbformat_minor": 2
}
